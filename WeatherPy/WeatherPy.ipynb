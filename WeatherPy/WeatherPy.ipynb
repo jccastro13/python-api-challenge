{
 "cells": [
  {
   "cell_type": "markdown",
   "metadata": {},
   "source": [
    "# WeatherPy\n",
    "----\n",
    "\n",
    "#### Note\n",
    "* Instructions have been included for each segment. You do not have to follow them exactly, but they are included to help you think through the steps."
   ]
  },
  {
   "cell_type": "code",
   "execution_count": 13,
   "metadata": {
    "scrolled": true
   },
   "outputs": [],
   "source": [
    "# Dependencies and Setup\n",
    "import matplotlib.pyplot as plt\n",
    "import pandas as pd\n",
    "import numpy as np\n",
    "import requests\n",
    "import time\n",
    "from scipy.stats import linregress\n",
    "from scipy.stats import stats\n",
    "\n",
    "# Import API key\n",
    "from api_keys import weather_api_key\n",
    "\n",
    "# Incorporated citipy to determine city based on latitude and longitude\n",
    "from citipy import citipy\n",
    "\n",
    "# Output File (CSV)\n",
    "output_data_file = \"output_data/cities.csv\"\n",
    "\n",
    "# Range of latitudes and longitudes\n",
    "lat_range = (-90, 90)\n",
    "lng_range = (-180, 180)"
   ]
  },
  {
   "cell_type": "markdown",
   "metadata": {},
   "source": [
    "## Generate Cities List"
   ]
  },
  {
   "cell_type": "code",
   "execution_count": 2,
   "metadata": {},
   "outputs": [
    {
     "data": {
      "text/plain": [
       "607"
      ]
     },
     "execution_count": 2,
     "metadata": {},
     "output_type": "execute_result"
    }
   ],
   "source": [
    "# List for holding lat_lngs and cities\n",
    "lat_lngs = []\n",
    "cities = []\n",
    "\n",
    "# Create a set of random lat and lng combinations\n",
    "lats = np.random.uniform(lat_range[0], lat_range[1], size=1500)\n",
    "lngs = np.random.uniform(lng_range[0], lng_range[1], size=1500)\n",
    "lat_lngs = zip(lats, lngs)\n",
    "\n",
    "# Identify nearest city for each lat, lng combination\n",
    "for lat_lng in lat_lngs:\n",
    "    city = citipy.nearest_city(lat_lng[0], lat_lng[1]).city_name\n",
    "    \n",
    "    # If the city is unique, then add it to a our cities list\n",
    "    if city not in cities:\n",
    "        cities.append(city)\n",
    "\n",
    "# Print the city count to confirm sufficient count\n",
    "len(cities)"
   ]
  },
  {
   "cell_type": "markdown",
   "metadata": {},
   "source": [
    "### Perform API Calls\n",
    "* Perform a weather check on each city using a series of successive API calls.\n",
    "* Include a print log of each city as it'sbeing processed (with the city number and city name).\n"
   ]
  },
  {
   "cell_type": "code",
   "execution_count": 3,
   "metadata": {
    "scrolled": true
   },
   "outputs": [],
   "source": [
    "city_name = []\n",
    "cloudiness = []\n",
    "country = []\n",
    "date = []\n",
    "humidity = []\n",
    "lat = []\n",
    "lng = []\n",
    "max_temp = []\n",
    "wind_speed = []\n",
    "index_counter = 0\n",
    "set_counter = 1"
   ]
  },
  {
   "cell_type": "code",
   "execution_count": 4,
   "metadata": {},
   "outputs": [
    {
     "name": "stdout",
     "output_type": "stream",
     "text": [
      "Beginning Data Retrieval\n",
      "------------------------\n",
      "Processing Record 1 of Set 1 : kapaa\n",
      "Processing Record 2 of Set 1 : jamestown\n",
      "Processing Record 3 of Set 1 : la ronge\n",
      "Processing Record 4 of Set 1 : aklavik\n",
      "Processing Record 5 of Set 1 : albany\n",
      "Processing Record 6 of Set 1 : georgetown\n",
      "Processing Record 7 of Set 1 : miri\n",
      "Processing Record 8 of Set 1 : tiksi\n",
      "Processing Record 9 of Set 1 : asau\n",
      "Processing Record 10 of Set 1 : namibe\n",
      "Processing Record 11 of Set 1 : rikitea\n",
      "Processing Record 12 of Set 1 : maniitsoq\n",
      "Processing Record 13 of Set 1 : nikolskoye\n",
      "Processing Record 14 of Set 1 : gloversville\n",
      "Processing Record 15 of Set 1 : hobart\n",
      "Processing Record 16 of Set 1 : san patricio\n",
      "Processing Record 17 of Set 1 : de aar\n",
      "Processing Record 18 of Set 1 : bredasdorp\n",
      "Processing Record 19 of Set 1 : carnarvon\n",
      "Processing Record 20 of Set 1 : port alfred\n",
      "Processing Record 21 of Set 1 : borgarnes\n",
      "Processing Record 22 of Set 1 : mount gambier\n",
      "Processing Record 23 of Set 1 : lagoa\n",
      "Processing Record 24 of Set 1 : doha\n",
      "Processing Record 25 of Set 1 : mayo\n",
      "Processing Record 26 of Set 1 : arraial do cabo\n",
      "Processing Record 27 of Set 1 : caravelas\n",
      "City not found. Skipping...\n",
      "Processing Record 28 of Set 1 : kupino\n",
      "Processing Record 29 of Set 1 : provideniya\n",
      "Processing Record 30 of Set 1 : ostrovnoy\n",
      "Processing Record 31 of Set 1 : polunochnoye\n",
      "Processing Record 32 of Set 1 : ushuaia\n",
      "Processing Record 33 of Set 1 : longyearbyen\n",
      "Processing Record 34 of Set 1 : hilo\n",
      "Processing Record 35 of Set 1 : dong hoi\n",
      "Processing Record 36 of Set 1 : mataura\n",
      "Processing Record 37 of Set 1 : busselton\n",
      "Processing Record 38 of Set 1 : ribeira grande\n",
      "City not found. Skipping...\n",
      "Processing Record 39 of Set 1 : alice springs\n",
      "Processing Record 40 of Set 1 : la union\n",
      "Processing Record 41 of Set 1 : zlobin\n",
      "Processing Record 42 of Set 1 : punta arenas\n",
      "Processing Record 43 of Set 1 : east london\n",
      "Processing Record 44 of Set 1 : chokurdakh\n",
      "City not found. Skipping...\n",
      "City not found. Skipping...\n",
      "Processing Record 45 of Set 1 : spokane\n",
      "Processing Record 46 of Set 1 : nevers\n",
      "Processing Record 47 of Set 1 : saskylakh\n",
      "City not found. Skipping...\n",
      "Processing Record 48 of Set 1 : vardo\n",
      "Processing Record 49 of Set 1 : dhana\n",
      "Processing Record 50 of Set 1 : bluff\n",
      "Processing Record 0 of Set 2 : kulhudhuffushi\n",
      "Processing Record 1 of Set 2 : yar-sale\n",
      "Processing Record 2 of Set 2 : pevek\n",
      "Processing Record 3 of Set 2 : atuona\n",
      "Processing Record 4 of Set 2 : barry\n",
      "Processing Record 5 of Set 2 : gualeguay\n",
      "Processing Record 6 of Set 2 : dolores\n",
      "Processing Record 7 of Set 2 : cidreira\n",
      "Processing Record 8 of Set 2 : kaitangata\n",
      "City not found. Skipping...\n",
      "Processing Record 9 of Set 2 : lebu\n",
      "Processing Record 10 of Set 2 : north bend\n",
      "Processing Record 11 of Set 2 : hermanus\n",
      "Processing Record 12 of Set 2 : poum\n",
      "Processing Record 13 of Set 2 : maridi\n",
      "Processing Record 14 of Set 2 : saraipali\n",
      "Processing Record 15 of Set 2 : port hardy\n",
      "Processing Record 16 of Set 2 : tabou\n",
      "Processing Record 17 of Set 2 : lata\n",
      "Processing Record 18 of Set 2 : cape town\n",
      "Processing Record 19 of Set 2 : hami\n",
      "Processing Record 20 of Set 2 : valkla\n",
      "Processing Record 21 of Set 2 : kirakira\n",
      "Processing Record 22 of Set 2 : sesheke\n",
      "City not found. Skipping...\n",
      "Processing Record 23 of Set 2 : yellowknife\n",
      "Processing Record 24 of Set 2 : novoagansk\n",
      "Processing Record 25 of Set 2 : emerald\n",
      "City not found. Skipping...\n",
      "City not found. Skipping...\n",
      "City not found. Skipping...\n",
      "Processing Record 26 of Set 2 : tessalit\n",
      "Processing Record 27 of Set 2 : rovaniemi\n",
      "Processing Record 28 of Set 2 : port elizabeth\n",
      "Processing Record 29 of Set 2 : witney\n",
      "Processing Record 30 of Set 2 : grants pass\n",
      "Processing Record 31 of Set 2 : bulgan\n",
      "Processing Record 32 of Set 2 : fortuna\n",
      "Processing Record 33 of Set 2 : abha\n",
      "Processing Record 34 of Set 2 : airai\n",
      "Processing Record 35 of Set 2 : puerto ayora\n",
      "Processing Record 36 of Set 2 : saint-philippe\n",
      "Processing Record 37 of Set 2 : berdigestyakh\n",
      "Processing Record 38 of Set 2 : boali\n",
      "Processing Record 39 of Set 2 : acarau\n",
      "Processing Record 40 of Set 2 : srednekolymsk\n",
      "City not found. Skipping...\n",
      "Processing Record 41 of Set 2 : ormara\n",
      "Processing Record 42 of Set 2 : saint-augustin\n",
      "Processing Record 43 of Set 2 : manzanillo\n",
      "Processing Record 44 of Set 2 : westport\n",
      "Processing Record 45 of Set 2 : vestmannaeyjar\n",
      "Processing Record 46 of Set 2 : padang\n",
      "Processing Record 47 of Set 2 : karaton\n",
      "Processing Record 48 of Set 2 : mar del plata\n",
      "Processing Record 49 of Set 2 : xai-xai\n",
      "City not found. Skipping...\n",
      "Processing Record 50 of Set 2 : bethel\n",
      "Processing Record 0 of Set 3 : anaconda\n",
      "Processing Record 1 of Set 3 : barrow\n",
      "Processing Record 2 of Set 3 : broken hill\n",
      "Processing Record 3 of Set 3 : narsaq\n",
      "City not found. Skipping...\n",
      "Processing Record 4 of Set 3 : guayabal\n",
      "Processing Record 5 of Set 3 : puksoozero\n",
      "Processing Record 6 of Set 3 : dikson\n",
      "Processing Record 7 of Set 3 : khatanga\n",
      "Processing Record 8 of Set 3 : makarov\n",
      "Processing Record 9 of Set 3 : avarua\n",
      "Processing Record 10 of Set 3 : vao\n",
      "Processing Record 11 of Set 3 : qaanaaq\n",
      "Processing Record 12 of Set 3 : mitu\n",
      "Processing Record 13 of Set 3 : buraydah\n",
      "Processing Record 14 of Set 3 : panaba\n",
      "Processing Record 15 of Set 3 : danielskuil\n",
      "Processing Record 16 of Set 3 : bay-khaak\n",
      "City not found. Skipping...\n",
      "Processing Record 17 of Set 3 : vestmanna\n",
      "Processing Record 18 of Set 3 : saint-joseph\n",
      "Processing Record 19 of Set 3 : codrington\n",
      "Processing Record 20 of Set 3 : hithadhoo\n",
      "Processing Record 21 of Set 3 : tuktoyaktuk\n",
      "Processing Record 22 of Set 3 : tautira\n",
      "Processing Record 23 of Set 3 : dingle\n",
      "Processing Record 24 of Set 3 : meulaboh\n",
      "Processing Record 25 of Set 3 : san andres\n",
      "City not found. Skipping...\n",
      "Processing Record 26 of Set 3 : beringovskiy\n",
      "Processing Record 27 of Set 3 : caraballeda\n",
      "Processing Record 28 of Set 3 : upernavik\n",
      "City not found. Skipping...\n",
      "Processing Record 29 of Set 3 : grindavik\n",
      "Processing Record 30 of Set 3 : hofn\n",
      "Processing Record 31 of Set 3 : bambous virieux\n",
      "Processing Record 32 of Set 3 : kermanshah\n",
      "Processing Record 33 of Set 3 : hope\n",
      "Processing Record 34 of Set 3 : lasa\n",
      "Processing Record 35 of Set 3 : kemise\n",
      "Processing Record 36 of Set 3 : wajima\n",
      "Processing Record 37 of Set 3 : cockburn town\n",
      "Processing Record 38 of Set 3 : bengkulu\n",
      "Processing Record 39 of Set 3 : caucaia\n",
      "Processing Record 40 of Set 3 : hasaki\n",
      "Processing Record 41 of Set 3 : gerash\n",
      "Processing Record 42 of Set 3 : iqaluit\n",
      "Processing Record 43 of Set 3 : hobyo\n",
      "Processing Record 44 of Set 3 : sobolevo\n",
      "Processing Record 45 of Set 3 : san carlos de bariloche\n",
      "Processing Record 46 of Set 3 : castro\n",
      "Processing Record 47 of Set 3 : mahebourg\n",
      "Processing Record 48 of Set 3 : kushmurun\n",
      "City not found. Skipping...\n",
      "Processing Record 49 of Set 3 : kuito\n",
      "Processing Record 50 of Set 3 : alghero\n",
      "Processing Record 0 of Set 4 : ilulissat\n",
      "Processing Record 1 of Set 4 : simpang\n",
      "Processing Record 2 of Set 4 : hamilton\n",
      "Processing Record 3 of Set 4 : alexandria\n",
      "Processing Record 4 of Set 4 : sao filipe\n",
      "Processing Record 5 of Set 4 : ponta do sol\n",
      "Processing Record 6 of Set 4 : samarai\n",
      "Processing Record 7 of Set 4 : igrim\n",
      "Processing Record 8 of Set 4 : sterling\n",
      "Processing Record 9 of Set 4 : richards bay\n",
      "Processing Record 10 of Set 4 : brigantine\n",
      "Processing Record 11 of Set 4 : coquimbo\n",
      "Processing Record 12 of Set 4 : new norfolk\n",
      "Processing Record 13 of Set 4 : shellbrook\n",
      "Processing Record 14 of Set 4 : victoria\n",
      "Processing Record 15 of Set 4 : verkhnyaya inta\n",
      "Processing Record 16 of Set 4 : raga\n",
      "Processing Record 17 of Set 4 : faanui\n",
      "Processing Record 18 of Set 4 : vanderhoof\n",
      "Processing Record 19 of Set 4 : phan thiet\n",
      "Processing Record 20 of Set 4 : puerto madero\n",
      "Processing Record 21 of Set 4 : soe\n",
      "Processing Record 22 of Set 4 : douentza\n",
      "Processing Record 23 of Set 4 : langenzenn\n",
      "Processing Record 24 of Set 4 : sturgeon bay\n",
      "Processing Record 25 of Set 4 : berlevag\n",
      "Processing Record 26 of Set 4 : biak\n",
      "Processing Record 27 of Set 4 : qixingtai\n",
      "Processing Record 28 of Set 4 : kodiak\n",
      "Processing Record 29 of Set 4 : lompoc\n",
      "City not found. Skipping...\n",
      "Processing Record 30 of Set 4 : tasiilaq\n",
      "Processing Record 31 of Set 4 : vila velha\n",
      "Processing Record 32 of Set 4 : makokou\n",
      "Processing Record 33 of Set 4 : salalah\n",
      "Processing Record 34 of Set 4 : maragogi\n"
     ]
    },
    {
     "name": "stdout",
     "output_type": "stream",
     "text": [
      "Processing Record 35 of Set 4 : baishishan\n",
      "Processing Record 36 of Set 4 : haines junction\n",
      "Processing Record 37 of Set 4 : broome\n",
      "Processing Record 38 of Set 4 : passo fundo\n",
      "Processing Record 39 of Set 4 : praia da vitoria\n",
      "City not found. Skipping...\n",
      "Processing Record 40 of Set 4 : leningradskiy\n",
      "Processing Record 41 of Set 4 : myitkyina\n",
      "Processing Record 42 of Set 4 : nouakchott\n",
      "Processing Record 43 of Set 4 : aiken\n",
      "Processing Record 44 of Set 4 : sinnamary\n",
      "Processing Record 45 of Set 4 : half moon bay\n",
      "Processing Record 46 of Set 4 : vaini\n",
      "Processing Record 47 of Set 4 : zambezi\n",
      "Processing Record 48 of Set 4 : troitsko-pechorsk\n",
      "Processing Record 49 of Set 4 : nome\n",
      "Processing Record 50 of Set 4 : watertown\n",
      "Processing Record 0 of Set 5 : teknaf\n",
      "Processing Record 1 of Set 5 : guerrero negro\n",
      "Processing Record 2 of Set 5 : angoche\n",
      "Processing Record 3 of Set 5 : tignere\n",
      "Processing Record 4 of Set 5 : mount pleasant\n",
      "Processing Record 5 of Set 5 : odweyne\n",
      "Processing Record 6 of Set 5 : henties bay\n",
      "Processing Record 7 of Set 5 : osa\n",
      "Processing Record 8 of Set 5 : kaputa\n",
      "Processing Record 9 of Set 5 : robat karim\n",
      "Processing Record 10 of Set 5 : talnakh\n",
      "Processing Record 11 of Set 5 : matamoros\n",
      "Processing Record 12 of Set 5 : nanortalik\n",
      "Processing Record 13 of Set 5 : wasilla\n",
      "Processing Record 14 of Set 5 : tacuarembo\n",
      "City not found. Skipping...\n",
      "Processing Record 15 of Set 5 : makakilo city\n",
      "Processing Record 16 of Set 5 : ancud\n",
      "Processing Record 17 of Set 5 : san luis\n",
      "Processing Record 18 of Set 5 : zyryanka\n",
      "City not found. Skipping...\n",
      "Processing Record 19 of Set 5 : dunedin\n",
      "Processing Record 20 of Set 5 : lipin bor\n",
      "Processing Record 21 of Set 5 : rabaul\n",
      "Processing Record 22 of Set 5 : el alto\n",
      "Processing Record 23 of Set 5 : weligama\n",
      "Processing Record 24 of Set 5 : nelson bay\n",
      "Processing Record 25 of Set 5 : valparaiso\n",
      "City not found. Skipping...\n",
      "Processing Record 26 of Set 5 : acari\n",
      "Processing Record 27 of Set 5 : lavrentiya\n",
      "Processing Record 28 of Set 5 : martapura\n",
      "Processing Record 29 of Set 5 : tiarei\n",
      "Processing Record 30 of Set 5 : hervey bay\n",
      "Processing Record 31 of Set 5 : chuy\n",
      "Processing Record 32 of Set 5 : kavieng\n",
      "Processing Record 33 of Set 5 : solnechnyy\n",
      "Processing Record 34 of Set 5 : adrar\n",
      "City not found. Skipping...\n",
      "Processing Record 35 of Set 5 : vettavalam\n",
      "Processing Record 36 of Set 5 : cedar city\n",
      "Processing Record 37 of Set 5 : bintulu\n",
      "Processing Record 38 of Set 5 : mareeba\n",
      "Processing Record 39 of Set 5 : dudinka\n",
      "Processing Record 40 of Set 5 : domat\n",
      "Processing Record 41 of Set 5 : gravdal\n",
      "Processing Record 42 of Set 5 : altamira\n",
      "City not found. Skipping...\n",
      "Processing Record 43 of Set 5 : rapid city\n",
      "Processing Record 44 of Set 5 : enshi\n",
      "Processing Record 45 of Set 5 : flinders\n",
      "Processing Record 46 of Set 5 : mincivan\n",
      "Processing Record 47 of Set 5 : moerai\n",
      "Processing Record 48 of Set 5 : murray bridge\n",
      "Processing Record 49 of Set 5 : twentynine palms\n",
      "Processing Record 50 of Set 5 : bathsheba\n",
      "Processing Record 0 of Set 6 : nisia floresta\n",
      "Processing Record 1 of Set 6 : sitka\n",
      "Processing Record 2 of Set 6 : mitsamiouli\n",
      "Processing Record 3 of Set 6 : seda\n",
      "Processing Record 4 of Set 6 : bilibino\n",
      "Processing Record 5 of Set 6 : butaritari\n",
      "Processing Record 6 of Set 6 : ahipara\n",
      "Processing Record 7 of Set 6 : trapani\n",
      "City not found. Skipping...\n",
      "City not found. Skipping...\n",
      "City not found. Skipping...\n",
      "Processing Record 8 of Set 6 : thompson\n",
      "Processing Record 9 of Set 6 : nha trang\n",
      "Processing Record 10 of Set 6 : kruisfontein\n",
      "Processing Record 11 of Set 6 : casper\n",
      "Processing Record 12 of Set 6 : chandrakona\n",
      "Processing Record 13 of Set 6 : lorengau\n",
      "Processing Record 14 of Set 6 : touros\n",
      "Processing Record 15 of Set 6 : san lorenzo\n",
      "Processing Record 16 of Set 6 : mackay\n",
      "Processing Record 17 of Set 6 : ossora\n",
      "Processing Record 18 of Set 6 : santa cruz del norte\n",
      "City not found. Skipping...\n",
      "Processing Record 19 of Set 6 : nouadhibou\n",
      "Processing Record 20 of Set 6 : hualmay\n",
      "City not found. Skipping...\n",
      "Processing Record 21 of Set 6 : winton\n",
      "Processing Record 22 of Set 6 : finschhafen\n",
      "Processing Record 23 of Set 6 : eberndorf\n",
      "Processing Record 24 of Set 6 : vostok\n",
      "Processing Record 25 of Set 6 : ladario\n",
      "Processing Record 26 of Set 6 : ribnitz-damgarten\n",
      "Processing Record 27 of Set 6 : nara\n",
      "Processing Record 28 of Set 6 : buala\n",
      "Processing Record 29 of Set 6 : sao paulo de olivenca\n",
      "Processing Record 30 of Set 6 : naranjal\n",
      "Processing Record 31 of Set 6 : port hedland\n",
      "Processing Record 32 of Set 6 : prince rupert\n",
      "Processing Record 33 of Set 6 : dangtu\n",
      "Processing Record 34 of Set 6 : kahului\n",
      "Processing Record 35 of Set 6 : tuatapere\n",
      "Processing Record 36 of Set 6 : kjollefjord\n",
      "Processing Record 37 of Set 6 : shingu\n",
      "City not found. Skipping...\n",
      "Processing Record 38 of Set 6 : obama\n",
      "Processing Record 39 of Set 6 : monster\n",
      "City not found. Skipping...\n",
      "Processing Record 40 of Set 6 : ozinki\n",
      "Processing Record 41 of Set 6 : katsuura\n",
      "Processing Record 42 of Set 6 : mwene-ditu\n",
      "Processing Record 43 of Set 6 : udachnyy\n",
      "Processing Record 44 of Set 6 : havre-saint-pierre\n",
      "Processing Record 45 of Set 6 : imeni poliny osipenko\n",
      "Processing Record 46 of Set 6 : baicheng\n",
      "Processing Record 47 of Set 6 : basoko\n",
      "Processing Record 48 of Set 6 : bud\n",
      "City not found. Skipping...\n",
      "Processing Record 49 of Set 6 : horsham\n",
      "Processing Record 50 of Set 6 : dubai\n",
      "Processing Record 0 of Set 7 : stuttgart\n",
      "Processing Record 1 of Set 7 : lashio\n",
      "Processing Record 2 of Set 7 : college\n",
      "Processing Record 3 of Set 7 : viedma\n",
      "Processing Record 4 of Set 7 : susner\n",
      "Processing Record 5 of Set 7 : bowen\n",
      "Processing Record 6 of Set 7 : vanimo\n",
      "Processing Record 7 of Set 7 : qujing\n",
      "City not found. Skipping...\n",
      "Processing Record 8 of Set 7 : canguaretama\n",
      "Processing Record 9 of Set 7 : saint george\n",
      "Processing Record 10 of Set 7 : kysyl-syr\n",
      "Processing Record 11 of Set 7 : abalak\n",
      "Processing Record 12 of Set 7 : vila franca do campo\n",
      "Processing Record 13 of Set 7 : don sak\n",
      "Processing Record 14 of Set 7 : sambava\n",
      "Processing Record 15 of Set 7 : auki\n",
      "Processing Record 16 of Set 7 : egvekinot\n",
      "Processing Record 17 of Set 7 : witu\n",
      "Processing Record 18 of Set 7 : storforshei\n",
      "Processing Record 19 of Set 7 : kollam\n",
      "Processing Record 20 of Set 7 : ust-tsilma\n",
      "Processing Record 21 of Set 7 : sioux lookout\n",
      "Processing Record 22 of Set 7 : cabo san lucas\n",
      "Processing Record 23 of Set 7 : grand gaube\n",
      "Processing Record 24 of Set 7 : kouango\n",
      "Processing Record 25 of Set 7 : vilyuysk\n",
      "Processing Record 26 of Set 7 : mahanoro\n",
      "Processing Record 27 of Set 7 : hatsukaichi\n",
      "Processing Record 28 of Set 7 : rajula\n",
      "Processing Record 29 of Set 7 : te anau\n",
      "Processing Record 30 of Set 7 : tura\n",
      "Processing Record 31 of Set 7 : saint-francois\n",
      "Processing Record 32 of Set 7 : mecca\n",
      "Processing Record 33 of Set 7 : biltine\n",
      "Processing Record 34 of Set 7 : coachella\n",
      "Processing Record 35 of Set 7 : omboue\n",
      "Processing Record 36 of Set 7 : souillac\n",
      "Processing Record 37 of Set 7 : pascagoula\n",
      "Processing Record 38 of Set 7 : jumla\n",
      "Processing Record 39 of Set 7 : road town\n",
      "Processing Record 40 of Set 7 : mehamn\n",
      "Processing Record 41 of Set 7 : gboko\n",
      "Processing Record 42 of Set 7 : lamu\n",
      "Processing Record 43 of Set 7 : inongo\n",
      "Processing Record 44 of Set 7 : aswan\n",
      "Processing Record 45 of Set 7 : dori\n",
      "Processing Record 46 of Set 7 : sao joao do piaui\n",
      "Processing Record 47 of Set 7 : fairbanks\n",
      "Processing Record 48 of Set 7 : torbay\n",
      "Processing Record 49 of Set 7 : glendive\n",
      "Processing Record 50 of Set 7 : naze\n",
      "City not found. Skipping...\n",
      "Processing Record 0 of Set 8 : doctor arroyo\n",
      "Processing Record 1 of Set 8 : pergamino\n",
      "Processing Record 2 of Set 8 : guilin\n",
      "Processing Record 3 of Set 8 : alofi\n",
      "Processing Record 4 of Set 8 : altay\n",
      "Processing Record 5 of Set 8 : athens\n",
      "Processing Record 6 of Set 8 : alyangula\n",
      "Processing Record 7 of Set 8 : male\n",
      "Processing Record 8 of Set 8 : savannah bight\n",
      "Processing Record 9 of Set 8 : nova borova\n",
      "Processing Record 10 of Set 8 : karpathos\n",
      "Processing Record 11 of Set 8 : pringsewu\n",
      "Processing Record 12 of Set 8 : tucuman\n",
      "Processing Record 13 of Set 8 : upata\n",
      "Processing Record 14 of Set 8 : sarakhs\n",
      "Processing Record 15 of Set 8 : port-gentil\n",
      "Processing Record 16 of Set 8 : saint paul\n",
      "Processing Record 17 of Set 8 : san cristobal\n",
      "Processing Record 18 of Set 8 : khandyga\n"
     ]
    },
    {
     "name": "stdout",
     "output_type": "stream",
     "text": [
      "Processing Record 19 of Set 8 : rostovka\n",
      "Processing Record 20 of Set 8 : olafsvik\n",
      "Processing Record 21 of Set 8 : boffa\n",
      "Processing Record 22 of Set 8 : semirom\n",
      "Processing Record 23 of Set 8 : kosice\n",
      "Processing Record 24 of Set 8 : luba\n",
      "Processing Record 25 of Set 8 : pisco\n",
      "Processing Record 26 of Set 8 : kovdor\n",
      "Processing Record 27 of Set 8 : chirnogeni\n",
      "Processing Record 28 of Set 8 : klaksvik\n",
      "Processing Record 29 of Set 8 : palmares do sul\n",
      "City not found. Skipping...\n",
      "Processing Record 30 of Set 8 : gurlan\n",
      "Processing Record 31 of Set 8 : san rafael\n",
      "Processing Record 32 of Set 8 : charleston\n",
      "Processing Record 33 of Set 8 : burns lake\n",
      "Processing Record 34 of Set 8 : manacapuru\n",
      "Processing Record 35 of Set 8 : atambua\n",
      "Processing Record 36 of Set 8 : clyde river\n",
      "Processing Record 37 of Set 8 : belogorsk\n",
      "Processing Record 38 of Set 8 : matara\n",
      "Processing Record 39 of Set 8 : severo-kurilsk\n",
      "Processing Record 40 of Set 8 : cravo norte\n",
      "Processing Record 41 of Set 8 : carcassonne\n",
      "Processing Record 42 of Set 8 : nsanje\n",
      "Processing Record 43 of Set 8 : cururupu\n",
      "Processing Record 44 of Set 8 : bandarbeyla\n",
      "Processing Record 45 of Set 8 : nakusp\n",
      "Processing Record 46 of Set 8 : ambahta\n",
      "Processing Record 47 of Set 8 : mont-dore\n",
      "Processing Record 48 of Set 8 : santiago del estero\n",
      "Processing Record 49 of Set 8 : sao joao da barra\n",
      "Processing Record 50 of Set 8 : huambo\n",
      "Processing Record 0 of Set 9 : areosa\n",
      "Processing Record 1 of Set 9 : taganak\n",
      "Processing Record 2 of Set 9 : mount isa\n",
      "Processing Record 3 of Set 9 : qaqortoq\n",
      "Processing Record 4 of Set 9 : pacific grove\n",
      "City not found. Skipping...\n",
      "Processing Record 5 of Set 9 : komsomolskiy\n",
      "Processing Record 6 of Set 9 : vasai\n",
      "Processing Record 7 of Set 9 : yining\n",
      "Processing Record 8 of Set 9 : chara\n",
      "Processing Record 9 of Set 9 : ponta delgada\n",
      "Processing Record 10 of Set 9 : virginia beach\n",
      "Processing Record 11 of Set 9 : harsin\n",
      "Processing Record 12 of Set 9 : sabzevar\n",
      "City not found. Skipping...\n",
      "Processing Record 13 of Set 9 : halden\n",
      "Processing Record 14 of Set 9 : marzuq\n",
      "Processing Record 15 of Set 9 : peniche\n",
      "Processing Record 16 of Set 9 : swan hill\n",
      "Processing Record 17 of Set 9 : santa rita\n",
      "Processing Record 18 of Set 9 : ugoofaaru\n",
      "Processing Record 19 of Set 9 : kargasok\n",
      "Processing Record 20 of Set 9 : esperance\n",
      "City not found. Skipping...\n",
      "Processing Record 21 of Set 9 : bereda\n",
      "Processing Record 22 of Set 9 : portland\n",
      "Processing Record 23 of Set 9 : goure\n",
      "Processing Record 24 of Set 9 : kenai\n",
      "Processing Record 25 of Set 9 : luderitz\n",
      "Processing Record 26 of Set 9 : korhogo\n",
      "Processing Record 27 of Set 9 : uyuni\n",
      "Processing Record 28 of Set 9 : novo hamburgo\n",
      "Processing Record 29 of Set 9 : sayyan\n",
      "Processing Record 30 of Set 9 : cabra\n",
      "City not found. Skipping...\n",
      "Processing Record 31 of Set 9 : andenes\n",
      "Processing Record 32 of Set 9 : najran\n",
      "Processing Record 33 of Set 9 : atar\n",
      "Processing Record 34 of Set 9 : shirokiy\n",
      "Processing Record 35 of Set 9 : chapada dos guimaraes\n",
      "Processing Record 36 of Set 9 : batemans bay\n",
      "Processing Record 37 of Set 9 : ilheus\n",
      "Processing Record 38 of Set 9 : flin flon\n",
      "Processing Record 39 of Set 9 : arman\n",
      "Processing Record 40 of Set 9 : santa teresa\n",
      "Processing Record 41 of Set 9 : port lincoln\n",
      "Processing Record 42 of Set 9 : rawah\n",
      "Processing Record 43 of Set 9 : paita\n",
      "Processing Record 44 of Set 9 : saint-leu\n",
      "Processing Record 45 of Set 9 : bundaberg\n",
      "Processing Record 46 of Set 9 : nago\n",
      "Processing Record 47 of Set 9 : harper\n",
      "Processing Record 48 of Set 9 : borogontsy\n",
      "Processing Record 49 of Set 9 : palu\n",
      "Processing Record 50 of Set 9 : kavaratti\n",
      "Processing Record 0 of Set 10 : kon tum\n",
      "Processing Record 1 of Set 10 : carauari\n",
      "City not found. Skipping...\n",
      "Processing Record 2 of Set 10 : cayenne\n",
      "Processing Record 3 of Set 10 : ekangala\n",
      "Processing Record 4 of Set 10 : geraldton\n",
      "Processing Record 5 of Set 10 : lac-au-saumon\n",
      "Processing Record 6 of Set 10 : caconda\n",
      "Processing Record 7 of Set 10 : tateyama\n",
      "Processing Record 8 of Set 10 : van\n",
      "Processing Record 9 of Set 10 : port keats\n",
      "Processing Record 10 of Set 10 : ippy\n",
      "Processing Record 11 of Set 10 : norman wells\n",
      "Processing Record 12 of Set 10 : cap malheureux\n",
      "City not found. Skipping...\n",
      "Processing Record 13 of Set 10 : lufilufi\n",
      "Processing Record 14 of Set 10 : dovolnoye\n",
      "Processing Record 15 of Set 10 : saravan\n",
      "Processing Record 16 of Set 10 : general roca\n",
      "Processing Record 17 of Set 10 : bastia\n",
      "City not found. Skipping...\n",
      "Processing Record 18 of Set 10 : ust-nera\n",
      "Processing Record 19 of Set 10 : comodoro rivadavia\n",
      "Processing Record 20 of Set 10 : hong gai\n",
      "Processing Record 21 of Set 10 : saldanha\n",
      "Processing Record 22 of Set 10 : monterey\n",
      "Processing Record 23 of Set 10 : eyl\n",
      "Processing Record 24 of Set 10 : ambilobe\n",
      "Processing Record 25 of Set 10 : quatre cocos\n",
      "Processing Record 26 of Set 10 : warrington\n",
      "Processing Record 27 of Set 10 : ribas do rio pardo\n",
      "Processing Record 28 of Set 10 : aleksandrovka\n",
      "Processing Record 29 of Set 10 : nawa\n",
      "City not found. Skipping...\n",
      "Processing Record 30 of Set 10 : priargunsk\n",
      "Processing Record 31 of Set 10 : takoradi\n",
      "Processing Record 32 of Set 10 : lac du bonnet\n",
      "Processing Record 33 of Set 10 : harrison\n",
      "City not found. Skipping...\n",
      "City not found. Skipping...\n",
      "Processing Record 34 of Set 10 : fuerte olimpo\n",
      "Processing Record 35 of Set 10 : alugan\n",
      "Processing Record 36 of Set 10 : lahaina\n",
      "Processing Record 37 of Set 10 : waingapu\n",
      "Processing Record 38 of Set 10 : pathein\n",
      "Processing Record 39 of Set 10 : pontianak\n",
      "Processing Record 40 of Set 10 : kiama\n",
      "Processing Record 41 of Set 10 : daloa\n",
      "Processing Record 42 of Set 10 : danville\n",
      "Processing Record 43 of Set 10 : paracuru\n",
      "Processing Record 44 of Set 10 : celestun\n",
      "Processing Record 45 of Set 10 : las cruces\n",
      "Processing Record 46 of Set 10 : taoudenni\n",
      "Processing Record 47 of Set 10 : nizhniy kuranakh\n",
      "Processing Record 48 of Set 10 : istok\n",
      "Processing Record 49 of Set 10 : bratsk\n",
      "Processing Record 50 of Set 10 : fort smith\n",
      "Processing Record 0 of Set 11 : mogadishu\n",
      "Processing Record 1 of Set 11 : beloha\n",
      "Processing Record 2 of Set 11 : grenaa\n",
      "Processing Record 3 of Set 11 : chapleau\n",
      "Processing Record 4 of Set 11 : playa vicente\n",
      "Processing Record 5 of Set 11 : tupelo\n",
      "Processing Record 6 of Set 11 : nemuro\n",
      "Processing Record 7 of Set 11 : coihaique\n",
      "Processing Record 8 of Set 11 : marsa matruh\n",
      "Processing Record 9 of Set 11 : prince george\n"
     ]
    },
    {
     "ename": "KeyboardInterrupt",
     "evalue": "",
     "output_type": "error",
     "traceback": [
      "\u001b[1;31m---------------------------------------------------------------------------\u001b[0m",
      "\u001b[1;31mKeyboardInterrupt\u001b[0m                         Traceback (most recent call last)",
      "\u001b[1;32m<ipython-input-4-c605ad7253b3>\u001b[0m in \u001b[0;36m<module>\u001b[1;34m\u001b[0m\n\u001b[0;32m      8\u001b[0m \u001b[1;32mfor\u001b[0m \u001b[0mindex\u001b[0m\u001b[1;33m,\u001b[0m \u001b[0mcity\u001b[0m \u001b[1;32min\u001b[0m \u001b[0menumerate\u001b[0m\u001b[1;33m(\u001b[0m\u001b[0mcities\u001b[0m\u001b[1;33m,\u001b[0m \u001b[0mstart\u001b[0m \u001b[1;33m=\u001b[0m \u001b[1;36m1\u001b[0m\u001b[1;33m)\u001b[0m\u001b[1;33m:\u001b[0m\u001b[1;33m\u001b[0m\u001b[1;33m\u001b[0m\u001b[0m\n\u001b[0;32m      9\u001b[0m     \u001b[1;32mtry\u001b[0m\u001b[1;33m:\u001b[0m\u001b[1;33m\u001b[0m\u001b[1;33m\u001b[0m\u001b[0m\n\u001b[1;32m---> 10\u001b[1;33m         \u001b[0mresponse\u001b[0m \u001b[1;33m=\u001b[0m \u001b[0mrequests\u001b[0m\u001b[1;33m.\u001b[0m\u001b[0mget\u001b[0m\u001b[1;33m(\u001b[0m\u001b[0mquery_url\u001b[0m \u001b[1;33m+\u001b[0m \u001b[0mcity\u001b[0m\u001b[1;33m)\u001b[0m\u001b[1;33m.\u001b[0m\u001b[0mjson\u001b[0m\u001b[1;33m(\u001b[0m\u001b[1;33m)\u001b[0m\u001b[1;33m\u001b[0m\u001b[1;33m\u001b[0m\u001b[0m\n\u001b[0m\u001b[0;32m     11\u001b[0m         \u001b[0mcity_name\u001b[0m\u001b[1;33m.\u001b[0m\u001b[0mappend\u001b[0m\u001b[1;33m(\u001b[0m\u001b[0mresponse\u001b[0m\u001b[1;33m[\u001b[0m\u001b[1;34m\"name\"\u001b[0m\u001b[1;33m]\u001b[0m\u001b[1;33m)\u001b[0m\u001b[1;33m\u001b[0m\u001b[1;33m\u001b[0m\u001b[0m\n\u001b[0;32m     12\u001b[0m         \u001b[0mcloudiness\u001b[0m\u001b[1;33m.\u001b[0m\u001b[0mappend\u001b[0m\u001b[1;33m(\u001b[0m\u001b[0mresponse\u001b[0m\u001b[1;33m[\u001b[0m\u001b[1;34m\"clouds\"\u001b[0m\u001b[1;33m]\u001b[0m\u001b[1;33m[\u001b[0m\u001b[1;34m\"all\"\u001b[0m\u001b[1;33m]\u001b[0m\u001b[1;33m)\u001b[0m\u001b[1;33m\u001b[0m\u001b[1;33m\u001b[0m\u001b[0m\n",
      "\u001b[1;32m~\\anaconda3\\envs\\PythonData\\lib\\site-packages\\requests\\api.py\u001b[0m in \u001b[0;36mget\u001b[1;34m(url, params, **kwargs)\u001b[0m\n\u001b[0;32m     74\u001b[0m \u001b[1;33m\u001b[0m\u001b[0m\n\u001b[0;32m     75\u001b[0m     \u001b[0mkwargs\u001b[0m\u001b[1;33m.\u001b[0m\u001b[0msetdefault\u001b[0m\u001b[1;33m(\u001b[0m\u001b[1;34m'allow_redirects'\u001b[0m\u001b[1;33m,\u001b[0m \u001b[1;32mTrue\u001b[0m\u001b[1;33m)\u001b[0m\u001b[1;33m\u001b[0m\u001b[1;33m\u001b[0m\u001b[0m\n\u001b[1;32m---> 76\u001b[1;33m     \u001b[1;32mreturn\u001b[0m \u001b[0mrequest\u001b[0m\u001b[1;33m(\u001b[0m\u001b[1;34m'get'\u001b[0m\u001b[1;33m,\u001b[0m \u001b[0murl\u001b[0m\u001b[1;33m,\u001b[0m \u001b[0mparams\u001b[0m\u001b[1;33m=\u001b[0m\u001b[0mparams\u001b[0m\u001b[1;33m,\u001b[0m \u001b[1;33m**\u001b[0m\u001b[0mkwargs\u001b[0m\u001b[1;33m)\u001b[0m\u001b[1;33m\u001b[0m\u001b[1;33m\u001b[0m\u001b[0m\n\u001b[0m\u001b[0;32m     77\u001b[0m \u001b[1;33m\u001b[0m\u001b[0m\n\u001b[0;32m     78\u001b[0m \u001b[1;33m\u001b[0m\u001b[0m\n",
      "\u001b[1;32m~\\anaconda3\\envs\\PythonData\\lib\\site-packages\\requests\\api.py\u001b[0m in \u001b[0;36mrequest\u001b[1;34m(method, url, **kwargs)\u001b[0m\n\u001b[0;32m     59\u001b[0m     \u001b[1;31m# cases, and look like a memory leak in others.\u001b[0m\u001b[1;33m\u001b[0m\u001b[1;33m\u001b[0m\u001b[1;33m\u001b[0m\u001b[0m\n\u001b[0;32m     60\u001b[0m     \u001b[1;32mwith\u001b[0m \u001b[0msessions\u001b[0m\u001b[1;33m.\u001b[0m\u001b[0mSession\u001b[0m\u001b[1;33m(\u001b[0m\u001b[1;33m)\u001b[0m \u001b[1;32mas\u001b[0m \u001b[0msession\u001b[0m\u001b[1;33m:\u001b[0m\u001b[1;33m\u001b[0m\u001b[1;33m\u001b[0m\u001b[0m\n\u001b[1;32m---> 61\u001b[1;33m         \u001b[1;32mreturn\u001b[0m \u001b[0msession\u001b[0m\u001b[1;33m.\u001b[0m\u001b[0mrequest\u001b[0m\u001b[1;33m(\u001b[0m\u001b[0mmethod\u001b[0m\u001b[1;33m=\u001b[0m\u001b[0mmethod\u001b[0m\u001b[1;33m,\u001b[0m \u001b[0murl\u001b[0m\u001b[1;33m=\u001b[0m\u001b[0murl\u001b[0m\u001b[1;33m,\u001b[0m \u001b[1;33m**\u001b[0m\u001b[0mkwargs\u001b[0m\u001b[1;33m)\u001b[0m\u001b[1;33m\u001b[0m\u001b[1;33m\u001b[0m\u001b[0m\n\u001b[0m\u001b[0;32m     62\u001b[0m \u001b[1;33m\u001b[0m\u001b[0m\n\u001b[0;32m     63\u001b[0m \u001b[1;33m\u001b[0m\u001b[0m\n",
      "\u001b[1;32m~\\anaconda3\\envs\\PythonData\\lib\\site-packages\\requests\\sessions.py\u001b[0m in \u001b[0;36mrequest\u001b[1;34m(self, method, url, params, data, headers, cookies, files, auth, timeout, allow_redirects, proxies, hooks, stream, verify, cert, json)\u001b[0m\n\u001b[0;32m    540\u001b[0m         }\n\u001b[0;32m    541\u001b[0m         \u001b[0msend_kwargs\u001b[0m\u001b[1;33m.\u001b[0m\u001b[0mupdate\u001b[0m\u001b[1;33m(\u001b[0m\u001b[0msettings\u001b[0m\u001b[1;33m)\u001b[0m\u001b[1;33m\u001b[0m\u001b[1;33m\u001b[0m\u001b[0m\n\u001b[1;32m--> 542\u001b[1;33m         \u001b[0mresp\u001b[0m \u001b[1;33m=\u001b[0m \u001b[0mself\u001b[0m\u001b[1;33m.\u001b[0m\u001b[0msend\u001b[0m\u001b[1;33m(\u001b[0m\u001b[0mprep\u001b[0m\u001b[1;33m,\u001b[0m \u001b[1;33m**\u001b[0m\u001b[0msend_kwargs\u001b[0m\u001b[1;33m)\u001b[0m\u001b[1;33m\u001b[0m\u001b[1;33m\u001b[0m\u001b[0m\n\u001b[0m\u001b[0;32m    543\u001b[0m \u001b[1;33m\u001b[0m\u001b[0m\n\u001b[0;32m    544\u001b[0m         \u001b[1;32mreturn\u001b[0m \u001b[0mresp\u001b[0m\u001b[1;33m\u001b[0m\u001b[1;33m\u001b[0m\u001b[0m\n",
      "\u001b[1;32m~\\anaconda3\\envs\\PythonData\\lib\\site-packages\\requests\\sessions.py\u001b[0m in \u001b[0;36msend\u001b[1;34m(self, request, **kwargs)\u001b[0m\n\u001b[0;32m    653\u001b[0m \u001b[1;33m\u001b[0m\u001b[0m\n\u001b[0;32m    654\u001b[0m         \u001b[1;31m# Send the request\u001b[0m\u001b[1;33m\u001b[0m\u001b[1;33m\u001b[0m\u001b[1;33m\u001b[0m\u001b[0m\n\u001b[1;32m--> 655\u001b[1;33m         \u001b[0mr\u001b[0m \u001b[1;33m=\u001b[0m \u001b[0madapter\u001b[0m\u001b[1;33m.\u001b[0m\u001b[0msend\u001b[0m\u001b[1;33m(\u001b[0m\u001b[0mrequest\u001b[0m\u001b[1;33m,\u001b[0m \u001b[1;33m**\u001b[0m\u001b[0mkwargs\u001b[0m\u001b[1;33m)\u001b[0m\u001b[1;33m\u001b[0m\u001b[1;33m\u001b[0m\u001b[0m\n\u001b[0m\u001b[0;32m    656\u001b[0m \u001b[1;33m\u001b[0m\u001b[0m\n\u001b[0;32m    657\u001b[0m         \u001b[1;31m# Total elapsed time of the request (approximately)\u001b[0m\u001b[1;33m\u001b[0m\u001b[1;33m\u001b[0m\u001b[1;33m\u001b[0m\u001b[0m\n",
      "\u001b[1;32m~\\anaconda3\\envs\\PythonData\\lib\\site-packages\\requests\\adapters.py\u001b[0m in \u001b[0;36msend\u001b[1;34m(self, request, stream, timeout, verify, cert, proxies)\u001b[0m\n\u001b[0;32m    447\u001b[0m                     \u001b[0mdecode_content\u001b[0m\u001b[1;33m=\u001b[0m\u001b[1;32mFalse\u001b[0m\u001b[1;33m,\u001b[0m\u001b[1;33m\u001b[0m\u001b[1;33m\u001b[0m\u001b[0m\n\u001b[0;32m    448\u001b[0m                     \u001b[0mretries\u001b[0m\u001b[1;33m=\u001b[0m\u001b[0mself\u001b[0m\u001b[1;33m.\u001b[0m\u001b[0mmax_retries\u001b[0m\u001b[1;33m,\u001b[0m\u001b[1;33m\u001b[0m\u001b[1;33m\u001b[0m\u001b[0m\n\u001b[1;32m--> 449\u001b[1;33m                     \u001b[0mtimeout\u001b[0m\u001b[1;33m=\u001b[0m\u001b[0mtimeout\u001b[0m\u001b[1;33m\u001b[0m\u001b[1;33m\u001b[0m\u001b[0m\n\u001b[0m\u001b[0;32m    450\u001b[0m                 )\n\u001b[0;32m    451\u001b[0m \u001b[1;33m\u001b[0m\u001b[0m\n",
      "\u001b[1;32m~\\anaconda3\\envs\\PythonData\\lib\\site-packages\\urllib3\\connectionpool.py\u001b[0m in \u001b[0;36murlopen\u001b[1;34m(self, method, url, body, headers, retries, redirect, assert_same_host, timeout, pool_timeout, release_conn, chunked, body_pos, **response_kw)\u001b[0m\n\u001b[0;32m    704\u001b[0m                 \u001b[0mbody\u001b[0m\u001b[1;33m=\u001b[0m\u001b[0mbody\u001b[0m\u001b[1;33m,\u001b[0m\u001b[1;33m\u001b[0m\u001b[1;33m\u001b[0m\u001b[0m\n\u001b[0;32m    705\u001b[0m                 \u001b[0mheaders\u001b[0m\u001b[1;33m=\u001b[0m\u001b[0mheaders\u001b[0m\u001b[1;33m,\u001b[0m\u001b[1;33m\u001b[0m\u001b[1;33m\u001b[0m\u001b[0m\n\u001b[1;32m--> 706\u001b[1;33m                 \u001b[0mchunked\u001b[0m\u001b[1;33m=\u001b[0m\u001b[0mchunked\u001b[0m\u001b[1;33m,\u001b[0m\u001b[1;33m\u001b[0m\u001b[1;33m\u001b[0m\u001b[0m\n\u001b[0m\u001b[0;32m    707\u001b[0m             )\n\u001b[0;32m    708\u001b[0m \u001b[1;33m\u001b[0m\u001b[0m\n",
      "\u001b[1;32m~\\anaconda3\\envs\\PythonData\\lib\\site-packages\\urllib3\\connectionpool.py\u001b[0m in \u001b[0;36m_make_request\u001b[1;34m(self, conn, method, url, timeout, chunked, **httplib_request_kw)\u001b[0m\n\u001b[0;32m    443\u001b[0m                     \u001b[1;31m# Python 3 (including for exceptions like SystemExit).\u001b[0m\u001b[1;33m\u001b[0m\u001b[1;33m\u001b[0m\u001b[1;33m\u001b[0m\u001b[0m\n\u001b[0;32m    444\u001b[0m                     \u001b[1;31m# Otherwise it looks like a bug in the code.\u001b[0m\u001b[1;33m\u001b[0m\u001b[1;33m\u001b[0m\u001b[1;33m\u001b[0m\u001b[0m\n\u001b[1;32m--> 445\u001b[1;33m                     \u001b[0msix\u001b[0m\u001b[1;33m.\u001b[0m\u001b[0mraise_from\u001b[0m\u001b[1;33m(\u001b[0m\u001b[0me\u001b[0m\u001b[1;33m,\u001b[0m \u001b[1;32mNone\u001b[0m\u001b[1;33m)\u001b[0m\u001b[1;33m\u001b[0m\u001b[1;33m\u001b[0m\u001b[0m\n\u001b[0m\u001b[0;32m    446\u001b[0m         \u001b[1;32mexcept\u001b[0m \u001b[1;33m(\u001b[0m\u001b[0mSocketTimeout\u001b[0m\u001b[1;33m,\u001b[0m \u001b[0mBaseSSLError\u001b[0m\u001b[1;33m,\u001b[0m \u001b[0mSocketError\u001b[0m\u001b[1;33m)\u001b[0m \u001b[1;32mas\u001b[0m \u001b[0me\u001b[0m\u001b[1;33m:\u001b[0m\u001b[1;33m\u001b[0m\u001b[1;33m\u001b[0m\u001b[0m\n\u001b[0;32m    447\u001b[0m             \u001b[0mself\u001b[0m\u001b[1;33m.\u001b[0m\u001b[0m_raise_timeout\u001b[0m\u001b[1;33m(\u001b[0m\u001b[0merr\u001b[0m\u001b[1;33m=\u001b[0m\u001b[0me\u001b[0m\u001b[1;33m,\u001b[0m \u001b[0murl\u001b[0m\u001b[1;33m=\u001b[0m\u001b[0murl\u001b[0m\u001b[1;33m,\u001b[0m \u001b[0mtimeout_value\u001b[0m\u001b[1;33m=\u001b[0m\u001b[0mread_timeout\u001b[0m\u001b[1;33m)\u001b[0m\u001b[1;33m\u001b[0m\u001b[1;33m\u001b[0m\u001b[0m\n",
      "\u001b[1;32m~\\anaconda3\\envs\\PythonData\\lib\\site-packages\\urllib3\\packages\\six.py\u001b[0m in \u001b[0;36mraise_from\u001b[1;34m(value, from_value)\u001b[0m\n",
      "\u001b[1;32m~\\anaconda3\\envs\\PythonData\\lib\\site-packages\\urllib3\\connectionpool.py\u001b[0m in \u001b[0;36m_make_request\u001b[1;34m(self, conn, method, url, timeout, chunked, **httplib_request_kw)\u001b[0m\n\u001b[0;32m    438\u001b[0m                 \u001b[1;31m# Python 3\u001b[0m\u001b[1;33m\u001b[0m\u001b[1;33m\u001b[0m\u001b[1;33m\u001b[0m\u001b[0m\n\u001b[0;32m    439\u001b[0m                 \u001b[1;32mtry\u001b[0m\u001b[1;33m:\u001b[0m\u001b[1;33m\u001b[0m\u001b[1;33m\u001b[0m\u001b[0m\n\u001b[1;32m--> 440\u001b[1;33m                     \u001b[0mhttplib_response\u001b[0m \u001b[1;33m=\u001b[0m \u001b[0mconn\u001b[0m\u001b[1;33m.\u001b[0m\u001b[0mgetresponse\u001b[0m\u001b[1;33m(\u001b[0m\u001b[1;33m)\u001b[0m\u001b[1;33m\u001b[0m\u001b[1;33m\u001b[0m\u001b[0m\n\u001b[0m\u001b[0;32m    441\u001b[0m                 \u001b[1;32mexcept\u001b[0m \u001b[0mBaseException\u001b[0m \u001b[1;32mas\u001b[0m \u001b[0me\u001b[0m\u001b[1;33m:\u001b[0m\u001b[1;33m\u001b[0m\u001b[1;33m\u001b[0m\u001b[0m\n\u001b[0;32m    442\u001b[0m                     \u001b[1;31m# Remove the TypeError from the exception chain in\u001b[0m\u001b[1;33m\u001b[0m\u001b[1;33m\u001b[0m\u001b[1;33m\u001b[0m\u001b[0m\n",
      "\u001b[1;32m~\\anaconda3\\envs\\PythonData\\lib\\http\\client.py\u001b[0m in \u001b[0;36mgetresponse\u001b[1;34m(self)\u001b[0m\n\u001b[0;32m   1352\u001b[0m         \u001b[1;32mtry\u001b[0m\u001b[1;33m:\u001b[0m\u001b[1;33m\u001b[0m\u001b[1;33m\u001b[0m\u001b[0m\n\u001b[0;32m   1353\u001b[0m             \u001b[1;32mtry\u001b[0m\u001b[1;33m:\u001b[0m\u001b[1;33m\u001b[0m\u001b[1;33m\u001b[0m\u001b[0m\n\u001b[1;32m-> 1354\u001b[1;33m                 \u001b[0mresponse\u001b[0m\u001b[1;33m.\u001b[0m\u001b[0mbegin\u001b[0m\u001b[1;33m(\u001b[0m\u001b[1;33m)\u001b[0m\u001b[1;33m\u001b[0m\u001b[1;33m\u001b[0m\u001b[0m\n\u001b[0m\u001b[0;32m   1355\u001b[0m             \u001b[1;32mexcept\u001b[0m \u001b[0mConnectionError\u001b[0m\u001b[1;33m:\u001b[0m\u001b[1;33m\u001b[0m\u001b[1;33m\u001b[0m\u001b[0m\n\u001b[0;32m   1356\u001b[0m                 \u001b[0mself\u001b[0m\u001b[1;33m.\u001b[0m\u001b[0mclose\u001b[0m\u001b[1;33m(\u001b[0m\u001b[1;33m)\u001b[0m\u001b[1;33m\u001b[0m\u001b[1;33m\u001b[0m\u001b[0m\n",
      "\u001b[1;32m~\\anaconda3\\envs\\PythonData\\lib\\http\\client.py\u001b[0m in \u001b[0;36mbegin\u001b[1;34m(self)\u001b[0m\n\u001b[0;32m    305\u001b[0m         \u001b[1;31m# read until we get a non-100 response\u001b[0m\u001b[1;33m\u001b[0m\u001b[1;33m\u001b[0m\u001b[1;33m\u001b[0m\u001b[0m\n\u001b[0;32m    306\u001b[0m         \u001b[1;32mwhile\u001b[0m \u001b[1;32mTrue\u001b[0m\u001b[1;33m:\u001b[0m\u001b[1;33m\u001b[0m\u001b[1;33m\u001b[0m\u001b[0m\n\u001b[1;32m--> 307\u001b[1;33m             \u001b[0mversion\u001b[0m\u001b[1;33m,\u001b[0m \u001b[0mstatus\u001b[0m\u001b[1;33m,\u001b[0m \u001b[0mreason\u001b[0m \u001b[1;33m=\u001b[0m \u001b[0mself\u001b[0m\u001b[1;33m.\u001b[0m\u001b[0m_read_status\u001b[0m\u001b[1;33m(\u001b[0m\u001b[1;33m)\u001b[0m\u001b[1;33m\u001b[0m\u001b[1;33m\u001b[0m\u001b[0m\n\u001b[0m\u001b[0;32m    308\u001b[0m             \u001b[1;32mif\u001b[0m \u001b[0mstatus\u001b[0m \u001b[1;33m!=\u001b[0m \u001b[0mCONTINUE\u001b[0m\u001b[1;33m:\u001b[0m\u001b[1;33m\u001b[0m\u001b[1;33m\u001b[0m\u001b[0m\n\u001b[0;32m    309\u001b[0m                 \u001b[1;32mbreak\u001b[0m\u001b[1;33m\u001b[0m\u001b[1;33m\u001b[0m\u001b[0m\n",
      "\u001b[1;32m~\\anaconda3\\envs\\PythonData\\lib\\http\\client.py\u001b[0m in \u001b[0;36m_read_status\u001b[1;34m(self)\u001b[0m\n\u001b[0;32m    266\u001b[0m \u001b[1;33m\u001b[0m\u001b[0m\n\u001b[0;32m    267\u001b[0m     \u001b[1;32mdef\u001b[0m \u001b[0m_read_status\u001b[0m\u001b[1;33m(\u001b[0m\u001b[0mself\u001b[0m\u001b[1;33m)\u001b[0m\u001b[1;33m:\u001b[0m\u001b[1;33m\u001b[0m\u001b[1;33m\u001b[0m\u001b[0m\n\u001b[1;32m--> 268\u001b[1;33m         \u001b[0mline\u001b[0m \u001b[1;33m=\u001b[0m \u001b[0mstr\u001b[0m\u001b[1;33m(\u001b[0m\u001b[0mself\u001b[0m\u001b[1;33m.\u001b[0m\u001b[0mfp\u001b[0m\u001b[1;33m.\u001b[0m\u001b[0mreadline\u001b[0m\u001b[1;33m(\u001b[0m\u001b[0m_MAXLINE\u001b[0m \u001b[1;33m+\u001b[0m \u001b[1;36m1\u001b[0m\u001b[1;33m)\u001b[0m\u001b[1;33m,\u001b[0m \u001b[1;34m\"iso-8859-1\"\u001b[0m\u001b[1;33m)\u001b[0m\u001b[1;33m\u001b[0m\u001b[1;33m\u001b[0m\u001b[0m\n\u001b[0m\u001b[0;32m    269\u001b[0m         \u001b[1;32mif\u001b[0m \u001b[0mlen\u001b[0m\u001b[1;33m(\u001b[0m\u001b[0mline\u001b[0m\u001b[1;33m)\u001b[0m \u001b[1;33m>\u001b[0m \u001b[0m_MAXLINE\u001b[0m\u001b[1;33m:\u001b[0m\u001b[1;33m\u001b[0m\u001b[1;33m\u001b[0m\u001b[0m\n\u001b[0;32m    270\u001b[0m             \u001b[1;32mraise\u001b[0m \u001b[0mLineTooLong\u001b[0m\u001b[1;33m(\u001b[0m\u001b[1;34m\"status line\"\u001b[0m\u001b[1;33m)\u001b[0m\u001b[1;33m\u001b[0m\u001b[1;33m\u001b[0m\u001b[0m\n",
      "\u001b[1;32m~\\anaconda3\\envs\\PythonData\\lib\\socket.py\u001b[0m in \u001b[0;36mreadinto\u001b[1;34m(self, b)\u001b[0m\n\u001b[0;32m    584\u001b[0m         \u001b[1;32mwhile\u001b[0m \u001b[1;32mTrue\u001b[0m\u001b[1;33m:\u001b[0m\u001b[1;33m\u001b[0m\u001b[1;33m\u001b[0m\u001b[0m\n\u001b[0;32m    585\u001b[0m             \u001b[1;32mtry\u001b[0m\u001b[1;33m:\u001b[0m\u001b[1;33m\u001b[0m\u001b[1;33m\u001b[0m\u001b[0m\n\u001b[1;32m--> 586\u001b[1;33m                 \u001b[1;32mreturn\u001b[0m \u001b[0mself\u001b[0m\u001b[1;33m.\u001b[0m\u001b[0m_sock\u001b[0m\u001b[1;33m.\u001b[0m\u001b[0mrecv_into\u001b[0m\u001b[1;33m(\u001b[0m\u001b[0mb\u001b[0m\u001b[1;33m)\u001b[0m\u001b[1;33m\u001b[0m\u001b[1;33m\u001b[0m\u001b[0m\n\u001b[0m\u001b[0;32m    587\u001b[0m             \u001b[1;32mexcept\u001b[0m \u001b[0mtimeout\u001b[0m\u001b[1;33m:\u001b[0m\u001b[1;33m\u001b[0m\u001b[1;33m\u001b[0m\u001b[0m\n\u001b[0;32m    588\u001b[0m                 \u001b[0mself\u001b[0m\u001b[1;33m.\u001b[0m\u001b[0m_timeout_occurred\u001b[0m \u001b[1;33m=\u001b[0m \u001b[1;32mTrue\u001b[0m\u001b[1;33m\u001b[0m\u001b[1;33m\u001b[0m\u001b[0m\n",
      "\u001b[1;31mKeyboardInterrupt\u001b[0m: "
     ]
    }
   ],
   "source": [
    "print(\"Beginning Data Retrieval\")\n",
    "print(\"------------------------\")\n",
    "    \n",
    "base_url = \"http://api.openweathermap.org/data/2.5/weather?\"\n",
    "units = \"imperial\"\n",
    "query_url = f\"{base_url}appid={weather_api_key}&units={units}&q=\"\n",
    "\n",
    "for index, city in enumerate(cities, start = 1):\n",
    "    try:\n",
    "        response = requests.get(query_url + city).json()\n",
    "        city_name.append(response[\"name\"])\n",
    "        cloudiness.append(response[\"clouds\"][\"all\"])\n",
    "        country.append(response[\"sys\"][\"country\"])\n",
    "        date.append(response[\"dt\"])\n",
    "        humidity.append(response[\"main\"][\"humidity\"])\n",
    "        lat.append(response[\"coord\"][\"lat\"])\n",
    "        lng.append(response[\"coord\"][\"lon\"])\n",
    "        max_temp.append(response['main']['temp_max'])\n",
    "        wind_speed.append(response[\"wind\"][\"speed\"])\n",
    "        \n",
    "        if index_counter > 49:\n",
    "            index_counter = 0\n",
    "            set_counter = set_counter + 1\n",
    "    \n",
    "        else:\n",
    "            index_counter = index_counter + 1\n",
    "            \n",
    "        print(f\"Processing Record {index_counter} of Set {set_counter} : {city}\") \n",
    "  \n",
    "    except(KeyError, IndexError):\n",
    "        print(\"City not found. Skipping...\")\n",
    "\n",
    "print(\"-----------------------------\")\n",
    "print(\"Data Retrieval Complete\")\n",
    "print(\"-----------------------------\")"
   ]
  },
  {
   "cell_type": "markdown",
   "metadata": {},
   "source": [
    "### Convert Raw Data to DataFrame\n",
    "* Export the city data into a .csv.\n",
    "* Display the DataFrame"
   ]
  },
  {
   "cell_type": "code",
   "execution_count": 5,
   "metadata": {},
   "outputs": [
    {
     "data": {
      "text/html": [
       "<div>\n",
       "<style scoped>\n",
       "    .dataframe tbody tr th:only-of-type {\n",
       "        vertical-align: middle;\n",
       "    }\n",
       "\n",
       "    .dataframe tbody tr th {\n",
       "        vertical-align: top;\n",
       "    }\n",
       "\n",
       "    .dataframe thead th {\n",
       "        text-align: right;\n",
       "    }\n",
       "</style>\n",
       "<table border=\"1\" class=\"dataframe\">\n",
       "  <thead>\n",
       "    <tr style=\"text-align: right;\">\n",
       "      <th></th>\n",
       "      <th>City</th>\n",
       "      <th>Cloudiness</th>\n",
       "      <th>Country</th>\n",
       "      <th>Date</th>\n",
       "      <th>Humidity</th>\n",
       "      <th>Lat</th>\n",
       "      <th>Lng</th>\n",
       "      <th>Max Temp</th>\n",
       "      <th>Wind Speed</th>\n",
       "    </tr>\n",
       "  </thead>\n",
       "  <tbody>\n",
       "    <tr>\n",
       "      <th>0</th>\n",
       "      <td>Kapaa</td>\n",
       "      <td>75</td>\n",
       "      <td>US</td>\n",
       "      <td>1619562042</td>\n",
       "      <td>69</td>\n",
       "      <td>22.0752</td>\n",
       "      <td>-159.3190</td>\n",
       "      <td>79.0</td>\n",
       "      <td>10.36</td>\n",
       "    </tr>\n",
       "    <tr>\n",
       "      <th>1</th>\n",
       "      <td>Jamestown</td>\n",
       "      <td>1</td>\n",
       "      <td>US</td>\n",
       "      <td>1619561762</td>\n",
       "      <td>43</td>\n",
       "      <td>42.0970</td>\n",
       "      <td>-79.2353</td>\n",
       "      <td>73.4</td>\n",
       "      <td>9.22</td>\n",
       "    </tr>\n",
       "    <tr>\n",
       "      <th>2</th>\n",
       "      <td>La Ronge</td>\n",
       "      <td>90</td>\n",
       "      <td>CA</td>\n",
       "      <td>1619561985</td>\n",
       "      <td>31</td>\n",
       "      <td>55.1001</td>\n",
       "      <td>-105.2842</td>\n",
       "      <td>26.6</td>\n",
       "      <td>11.50</td>\n",
       "    </tr>\n",
       "    <tr>\n",
       "      <th>3</th>\n",
       "      <td>Aklavik</td>\n",
       "      <td>0</td>\n",
       "      <td>CA</td>\n",
       "      <td>1619562043</td>\n",
       "      <td>37</td>\n",
       "      <td>68.2191</td>\n",
       "      <td>-135.0107</td>\n",
       "      <td>28.4</td>\n",
       "      <td>5.75</td>\n",
       "    </tr>\n",
       "    <tr>\n",
       "      <th>4</th>\n",
       "      <td>Albany</td>\n",
       "      <td>95</td>\n",
       "      <td>US</td>\n",
       "      <td>1619561993</td>\n",
       "      <td>22</td>\n",
       "      <td>42.6001</td>\n",
       "      <td>-73.9662</td>\n",
       "      <td>66.0</td>\n",
       "      <td>1.36</td>\n",
       "    </tr>\n",
       "  </tbody>\n",
       "</table>\n",
       "</div>"
      ],
      "text/plain": [
       "        City  Cloudiness Country        Date  Humidity      Lat       Lng  \\\n",
       "0      Kapaa          75      US  1619562042        69  22.0752 -159.3190   \n",
       "1  Jamestown           1      US  1619561762        43  42.0970  -79.2353   \n",
       "2   La Ronge          90      CA  1619561985        31  55.1001 -105.2842   \n",
       "3    Aklavik           0      CA  1619562043        37  68.2191 -135.0107   \n",
       "4     Albany          95      US  1619561993        22  42.6001  -73.9662   \n",
       "\n",
       "   Max Temp  Wind Speed  \n",
       "0      79.0       10.36  \n",
       "1      73.4        9.22  \n",
       "2      26.6       11.50  \n",
       "3      28.4        5.75  \n",
       "4      66.0        1.36  "
      ]
     },
     "execution_count": 5,
     "metadata": {},
     "output_type": "execute_result"
    }
   ],
   "source": [
    "weather_df = pd.DataFrame({\"City\": city_name,\n",
    "                          \"Cloudiness\": cloudiness,\n",
    "                          \"Country\": country,\n",
    "                          \"Date\": date,\n",
    "                          \"Humidity\":humidity,\n",
    "                          \"Lat\": lat,\n",
    "                          \"Lng\": lng,\n",
    "                          \"Max Temp\": max_temp,\n",
    "                          \"Wind Speed\": wind_speed})\n",
    "\n",
    "weather_df.to_csv(\"../output_data/city.csv\", index= False)\n",
    "weather_df.head()"
   ]
  },
  {
   "cell_type": "code",
   "execution_count": 8,
   "metadata": {},
   "outputs": [
    {
     "data": {
      "text/html": [
       "<div>\n",
       "<style scoped>\n",
       "    .dataframe tbody tr th:only-of-type {\n",
       "        vertical-align: middle;\n",
       "    }\n",
       "\n",
       "    .dataframe tbody tr th {\n",
       "        vertical-align: top;\n",
       "    }\n",
       "\n",
       "    .dataframe thead th {\n",
       "        text-align: right;\n",
       "    }\n",
       "</style>\n",
       "<table border=\"1\" class=\"dataframe\">\n",
       "  <thead>\n",
       "    <tr style=\"text-align: right;\">\n",
       "      <th></th>\n",
       "      <th>City</th>\n",
       "      <th>Cloudiness</th>\n",
       "      <th>Country</th>\n",
       "      <th>Date</th>\n",
       "      <th>Humidity</th>\n",
       "      <th>Lat</th>\n",
       "      <th>Lng</th>\n",
       "      <th>Max Temp</th>\n",
       "      <th>Wind Speed</th>\n",
       "    </tr>\n",
       "  </thead>\n",
       "  <tbody>\n",
       "    <tr>\n",
       "      <th>132</th>\n",
       "      <td>Bambous Virieux</td>\n",
       "      <td>75</td>\n",
       "      <td>MU</td>\n",
       "      <td>1619562088</td>\n",
       "      <td>100</td>\n",
       "      <td>-20.3428</td>\n",
       "      <td>57.7575</td>\n",
       "      <td>75.99</td>\n",
       "      <td>10.36</td>\n",
       "    </tr>\n",
       "    <tr>\n",
       "      <th>318</th>\n",
       "      <td>Don Sak</td>\n",
       "      <td>20</td>\n",
       "      <td>TH</td>\n",
       "      <td>1619562154</td>\n",
       "      <td>100</td>\n",
       "      <td>9.3168</td>\n",
       "      <td>99.6918</td>\n",
       "      <td>79.00</td>\n",
       "      <td>5.35</td>\n",
       "    </tr>\n",
       "    <tr>\n",
       "      <th>287</th>\n",
       "      <td>Dangtu</td>\n",
       "      <td>2</td>\n",
       "      <td>CN</td>\n",
       "      <td>1619562144</td>\n",
       "      <td>100</td>\n",
       "      <td>31.5723</td>\n",
       "      <td>118.4928</td>\n",
       "      <td>53.60</td>\n",
       "      <td>3.31</td>\n",
       "    </tr>\n",
       "    <tr>\n",
       "      <th>341</th>\n",
       "      <td>Souillac</td>\n",
       "      <td>75</td>\n",
       "      <td>MU</td>\n",
       "      <td>1619562016</td>\n",
       "      <td>100</td>\n",
       "      <td>-20.5167</td>\n",
       "      <td>57.5167</td>\n",
       "      <td>75.20</td>\n",
       "      <td>10.36</td>\n",
       "    </tr>\n",
       "    <tr>\n",
       "      <th>130</th>\n",
       "      <td>Grindavik</td>\n",
       "      <td>75</td>\n",
       "      <td>IS</td>\n",
       "      <td>1619562088</td>\n",
       "      <td>100</td>\n",
       "      <td>63.8424</td>\n",
       "      <td>-22.4338</td>\n",
       "      <td>42.80</td>\n",
       "      <td>5.75</td>\n",
       "    </tr>\n",
       "    <tr>\n",
       "      <th>...</th>\n",
       "      <td>...</td>\n",
       "      <td>...</td>\n",
       "      <td>...</td>\n",
       "      <td>...</td>\n",
       "      <td>...</td>\n",
       "      <td>...</td>\n",
       "      <td>...</td>\n",
       "      <td>...</td>\n",
       "      <td>...</td>\n",
       "    </tr>\n",
       "    <tr>\n",
       "      <th>430</th>\n",
       "      <td>Gouré</td>\n",
       "      <td>16</td>\n",
       "      <td>NE</td>\n",
       "      <td>1619562194</td>\n",
       "      <td>10</td>\n",
       "      <td>13.9835</td>\n",
       "      <td>10.2704</td>\n",
       "      <td>85.41</td>\n",
       "      <td>10.96</td>\n",
       "    </tr>\n",
       "    <tr>\n",
       "      <th>64</th>\n",
       "      <td>Saraipali</td>\n",
       "      <td>2</td>\n",
       "      <td>IN</td>\n",
       "      <td>1619562064</td>\n",
       "      <td>9</td>\n",
       "      <td>21.3333</td>\n",
       "      <td>83.0000</td>\n",
       "      <td>82.06</td>\n",
       "      <td>1.05</td>\n",
       "    </tr>\n",
       "    <tr>\n",
       "      <th>338</th>\n",
       "      <td>Biltine</td>\n",
       "      <td>2</td>\n",
       "      <td>TD</td>\n",
       "      <td>1619562161</td>\n",
       "      <td>9</td>\n",
       "      <td>14.5333</td>\n",
       "      <td>20.9167</td>\n",
       "      <td>84.63</td>\n",
       "      <td>8.81</td>\n",
       "    </tr>\n",
       "    <tr>\n",
       "      <th>76</th>\n",
       "      <td>Tessalit</td>\n",
       "      <td>28</td>\n",
       "      <td>ML</td>\n",
       "      <td>1619562069</td>\n",
       "      <td>9</td>\n",
       "      <td>20.1986</td>\n",
       "      <td>1.0114</td>\n",
       "      <td>92.28</td>\n",
       "      <td>5.61</td>\n",
       "    </tr>\n",
       "    <tr>\n",
       "      <th>48</th>\n",
       "      <td>Dhāna</td>\n",
       "      <td>0</td>\n",
       "      <td>IN</td>\n",
       "      <td>1619562058</td>\n",
       "      <td>8</td>\n",
       "      <td>23.7500</td>\n",
       "      <td>78.8500</td>\n",
       "      <td>83.21</td>\n",
       "      <td>5.08</td>\n",
       "    </tr>\n",
       "  </tbody>\n",
       "</table>\n",
       "<p>519 rows × 9 columns</p>\n",
       "</div>"
      ],
      "text/plain": [
       "                City  Cloudiness Country        Date  Humidity      Lat  \\\n",
       "132  Bambous Virieux          75      MU  1619562088       100 -20.3428   \n",
       "318          Don Sak          20      TH  1619562154       100   9.3168   \n",
       "287           Dangtu           2      CN  1619562144       100  31.5723   \n",
       "341         Souillac          75      MU  1619562016       100 -20.5167   \n",
       "130        Grindavik          75      IS  1619562088       100  63.8424   \n",
       "..               ...         ...     ...         ...       ...      ...   \n",
       "430            Gouré          16      NE  1619562194        10  13.9835   \n",
       "64         Saraipali           2      IN  1619562064         9  21.3333   \n",
       "338          Biltine           2      TD  1619562161         9  14.5333   \n",
       "76          Tessalit          28      ML  1619562069         9  20.1986   \n",
       "48             Dhāna           0      IN  1619562058         8  23.7500   \n",
       "\n",
       "          Lng  Max Temp  Wind Speed  \n",
       "132   57.7575     75.99       10.36  \n",
       "318   99.6918     79.00        5.35  \n",
       "287  118.4928     53.60        3.31  \n",
       "341   57.5167     75.20       10.36  \n",
       "130  -22.4338     42.80        5.75  \n",
       "..        ...       ...         ...  \n",
       "430   10.2704     85.41       10.96  \n",
       "64    83.0000     82.06        1.05  \n",
       "338   20.9167     84.63        8.81  \n",
       "76     1.0114     92.28        5.61  \n",
       "48    78.8500     83.21        5.08  \n",
       "\n",
       "[519 rows x 9 columns]"
      ]
     },
     "execution_count": 8,
     "metadata": {},
     "output_type": "execute_result"
    }
   ],
   "source": [
    "weather_df.sort_values(\"Humidity\",ascending=False)"
   ]
  },
  {
   "cell_type": "markdown",
   "metadata": {},
   "source": [
    "## Inspect the data and remove the cities where the humidity > 100%.\n",
    "----\n",
    "Skip this step if there are no cities that have humidity > 100%. "
   ]
  },
  {
   "cell_type": "code",
   "execution_count": 9,
   "metadata": {},
   "outputs": [
    {
     "data": {
      "text/html": [
       "<div>\n",
       "<style scoped>\n",
       "    .dataframe tbody tr th:only-of-type {\n",
       "        vertical-align: middle;\n",
       "    }\n",
       "\n",
       "    .dataframe tbody tr th {\n",
       "        vertical-align: top;\n",
       "    }\n",
       "\n",
       "    .dataframe thead th {\n",
       "        text-align: right;\n",
       "    }\n",
       "</style>\n",
       "<table border=\"1\" class=\"dataframe\">\n",
       "  <thead>\n",
       "    <tr style=\"text-align: right;\">\n",
       "      <th></th>\n",
       "      <th>Cloudiness</th>\n",
       "      <th>Date</th>\n",
       "      <th>Humidity</th>\n",
       "      <th>Lat</th>\n",
       "      <th>Lng</th>\n",
       "      <th>Max Temp</th>\n",
       "      <th>Wind Speed</th>\n",
       "    </tr>\n",
       "  </thead>\n",
       "  <tbody>\n",
       "    <tr>\n",
       "      <th>count</th>\n",
       "      <td>519.000000</td>\n",
       "      <td>5.190000e+02</td>\n",
       "      <td>519.000000</td>\n",
       "      <td>519.000000</td>\n",
       "      <td>519.000000</td>\n",
       "      <td>519.000000</td>\n",
       "      <td>519.000000</td>\n",
       "    </tr>\n",
       "    <tr>\n",
       "      <th>mean</th>\n",
       "      <td>55.250482</td>\n",
       "      <td>1.619562e+09</td>\n",
       "      <td>70.495183</td>\n",
       "      <td>18.971764</td>\n",
       "      <td>13.626005</td>\n",
       "      <td>61.603276</td>\n",
       "      <td>7.177283</td>\n",
       "    </tr>\n",
       "    <tr>\n",
       "      <th>std</th>\n",
       "      <td>38.281104</td>\n",
       "      <td>1.052356e+02</td>\n",
       "      <td>22.007534</td>\n",
       "      <td>33.653974</td>\n",
       "      <td>91.771393</td>\n",
       "      <td>19.354690</td>\n",
       "      <td>4.485979</td>\n",
       "    </tr>\n",
       "    <tr>\n",
       "      <th>min</th>\n",
       "      <td>0.000000</td>\n",
       "      <td>1.619561e+09</td>\n",
       "      <td>8.000000</td>\n",
       "      <td>-54.800000</td>\n",
       "      <td>-179.166700</td>\n",
       "      <td>4.660000</td>\n",
       "      <td>0.070000</td>\n",
       "    </tr>\n",
       "    <tr>\n",
       "      <th>25%</th>\n",
       "      <td>20.000000</td>\n",
       "      <td>1.619562e+09</td>\n",
       "      <td>60.500000</td>\n",
       "      <td>-8.969400</td>\n",
       "      <td>-66.874000</td>\n",
       "      <td>47.990000</td>\n",
       "      <td>3.570000</td>\n",
       "    </tr>\n",
       "    <tr>\n",
       "      <th>50%</th>\n",
       "      <td>68.000000</td>\n",
       "      <td>1.619562e+09</td>\n",
       "      <td>77.000000</td>\n",
       "      <td>21.426700</td>\n",
       "      <td>19.234500</td>\n",
       "      <td>64.400000</td>\n",
       "      <td>6.060000</td>\n",
       "    </tr>\n",
       "    <tr>\n",
       "      <th>75%</th>\n",
       "      <td>91.000000</td>\n",
       "      <td>1.619562e+09</td>\n",
       "      <td>87.000000</td>\n",
       "      <td>47.360950</td>\n",
       "      <td>91.262950</td>\n",
       "      <td>77.620000</td>\n",
       "      <td>9.955000</td>\n",
       "    </tr>\n",
       "    <tr>\n",
       "      <th>max</th>\n",
       "      <td>100.000000</td>\n",
       "      <td>1.619562e+09</td>\n",
       "      <td>100.000000</td>\n",
       "      <td>78.218600</td>\n",
       "      <td>179.316700</td>\n",
       "      <td>107.820000</td>\n",
       "      <td>24.400000</td>\n",
       "    </tr>\n",
       "  </tbody>\n",
       "</table>\n",
       "</div>"
      ],
      "text/plain": [
       "       Cloudiness          Date    Humidity         Lat         Lng  \\\n",
       "count  519.000000  5.190000e+02  519.000000  519.000000  519.000000   \n",
       "mean    55.250482  1.619562e+09   70.495183   18.971764   13.626005   \n",
       "std     38.281104  1.052356e+02   22.007534   33.653974   91.771393   \n",
       "min      0.000000  1.619561e+09    8.000000  -54.800000 -179.166700   \n",
       "25%     20.000000  1.619562e+09   60.500000   -8.969400  -66.874000   \n",
       "50%     68.000000  1.619562e+09   77.000000   21.426700   19.234500   \n",
       "75%     91.000000  1.619562e+09   87.000000   47.360950   91.262950   \n",
       "max    100.000000  1.619562e+09  100.000000   78.218600  179.316700   \n",
       "\n",
       "         Max Temp  Wind Speed  \n",
       "count  519.000000  519.000000  \n",
       "mean    61.603276    7.177283  \n",
       "std     19.354690    4.485979  \n",
       "min      4.660000    0.070000  \n",
       "25%     47.990000    3.570000  \n",
       "50%     64.400000    6.060000  \n",
       "75%     77.620000    9.955000  \n",
       "max    107.820000   24.400000  "
      ]
     },
     "execution_count": 9,
     "metadata": {},
     "output_type": "execute_result"
    }
   ],
   "source": [
    "weather_df.describe()"
   ]
  },
  {
   "cell_type": "code",
   "execution_count": 17,
   "metadata": {},
   "outputs": [
    {
     "data": {
      "text/plain": [
       "Int64Index([], dtype='int64')"
      ]
     },
     "execution_count": 17,
     "metadata": {},
     "output_type": "execute_result"
    }
   ],
   "source": [
    "#  Get the indices of cities that have humidity over 100%.\n"
   ]
  },
  {
   "cell_type": "code",
   "execution_count": null,
   "metadata": {},
   "outputs": [],
   "source": []
  },
  {
   "cell_type": "code",
   "execution_count": 11,
   "metadata": {},
   "outputs": [
    {
     "data": {
      "text/html": [
       "<div>\n",
       "<style scoped>\n",
       "    .dataframe tbody tr th:only-of-type {\n",
       "        vertical-align: middle;\n",
       "    }\n",
       "\n",
       "    .dataframe tbody tr th {\n",
       "        vertical-align: top;\n",
       "    }\n",
       "\n",
       "    .dataframe thead th {\n",
       "        text-align: right;\n",
       "    }\n",
       "</style>\n",
       "<table border=\"1\" class=\"dataframe\">\n",
       "  <thead>\n",
       "    <tr style=\"text-align: right;\">\n",
       "      <th></th>\n",
       "      <th>City</th>\n",
       "      <th>Cloudiness</th>\n",
       "      <th>Country</th>\n",
       "      <th>Date</th>\n",
       "      <th>Humidity</th>\n",
       "      <th>Lat</th>\n",
       "      <th>Lng</th>\n",
       "      <th>Max Temp</th>\n",
       "      <th>Wind Speed</th>\n",
       "    </tr>\n",
       "  </thead>\n",
       "  <tbody>\n",
       "    <tr>\n",
       "      <th>0</th>\n",
       "      <td>Kapaa</td>\n",
       "      <td>75</td>\n",
       "      <td>US</td>\n",
       "      <td>1619562042</td>\n",
       "      <td>69</td>\n",
       "      <td>22.0752</td>\n",
       "      <td>-159.3190</td>\n",
       "      <td>79.00</td>\n",
       "      <td>10.36</td>\n",
       "    </tr>\n",
       "    <tr>\n",
       "      <th>5</th>\n",
       "      <td>George Town</td>\n",
       "      <td>20</td>\n",
       "      <td>MY</td>\n",
       "      <td>1619562044</td>\n",
       "      <td>89</td>\n",
       "      <td>5.4112</td>\n",
       "      <td>100.3354</td>\n",
       "      <td>81.00</td>\n",
       "      <td>2.04</td>\n",
       "    </tr>\n",
       "    <tr>\n",
       "      <th>7</th>\n",
       "      <td>Tiksi</td>\n",
       "      <td>55</td>\n",
       "      <td>RU</td>\n",
       "      <td>1619562045</td>\n",
       "      <td>92</td>\n",
       "      <td>71.6872</td>\n",
       "      <td>128.8694</td>\n",
       "      <td>4.66</td>\n",
       "      <td>6.91</td>\n",
       "    </tr>\n",
       "    <tr>\n",
       "      <th>8</th>\n",
       "      <td>Asău</td>\n",
       "      <td>90</td>\n",
       "      <td>RO</td>\n",
       "      <td>1619562045</td>\n",
       "      <td>87</td>\n",
       "      <td>46.4333</td>\n",
       "      <td>26.4000</td>\n",
       "      <td>41.00</td>\n",
       "      <td>2.30</td>\n",
       "    </tr>\n",
       "    <tr>\n",
       "      <th>9</th>\n",
       "      <td>Mossamedes</td>\n",
       "      <td>14</td>\n",
       "      <td>AO</td>\n",
       "      <td>1619562046</td>\n",
       "      <td>68</td>\n",
       "      <td>-15.1961</td>\n",
       "      <td>12.1522</td>\n",
       "      <td>75.49</td>\n",
       "      <td>8.16</td>\n",
       "    </tr>\n",
       "  </tbody>\n",
       "</table>\n",
       "</div>"
      ],
      "text/plain": [
       "          City  Cloudiness Country        Date  Humidity      Lat       Lng  \\\n",
       "0        Kapaa          75      US  1619562042        69  22.0752 -159.3190   \n",
       "5  George Town          20      MY  1619562044        89   5.4112  100.3354   \n",
       "7        Tiksi          55      RU  1619562045        92  71.6872  128.8694   \n",
       "8         Asău          90      RO  1619562045        87  46.4333   26.4000   \n",
       "9   Mossamedes          14      AO  1619562046        68 -15.1961   12.1522   \n",
       "\n",
       "   Max Temp  Wind Speed  \n",
       "0     79.00       10.36  \n",
       "5     81.00        2.04  \n",
       "7      4.66        6.91  \n",
       "8     41.00        2.30  \n",
       "9     75.49        8.16  "
      ]
     },
     "execution_count": 11,
     "metadata": {},
     "output_type": "execute_result"
    }
   ],
   "source": [
    "# Make a new DataFrame equal to the city data to drop all humidity outliers by index.\n",
    "# Passing \"inplace=False\" will make a copy of the city_data DataFrame, which we call \"clean_city_data\".\n",
    "clean_city_data = weather_df[(weather_df.Humidity<94) & (weather_df.Humidity>46)].copy()\n",
    "clean_city_data.head()"
   ]
  },
  {
   "cell_type": "code",
   "execution_count": null,
   "metadata": {},
   "outputs": [],
   "source": [
    "\n"
   ]
  },
  {
   "cell_type": "markdown",
   "metadata": {},
   "source": [
    "## Plotting the Data\n",
    "* Use proper labeling of the plots using plot titles (including date of analysis) and axes labels.\n",
    "* Save the plotted figures as .pngs."
   ]
  },
  {
   "cell_type": "markdown",
   "metadata": {},
   "source": [
    "## Latitude vs. Temperature Plot"
   ]
  },
  {
   "cell_type": "code",
   "execution_count": 12,
   "metadata": {
    "scrolled": false
   },
   "outputs": [
    {
     "data": {
      "image/png": "[encoded data removed]",
      "text/plain": [
       "<Figure size 1296x720 with 4 Axes>"
      ]
     },
     "metadata": {
      "needs_background": "light"
     },
     "output_type": "display_data"
    }
   ],
   "source": [
    "fig=plt.figure(figsize=(18,10))\n",
    "\n",
    "ax1=fig.add_subplot(2,2,1)\n",
    "ax2=fig.add_subplot(2,2,2)\n",
    "ax3=fig.add_subplot(2,2,3)\n",
    "ax4=fig.add_subplot(2,2,4)\n",
    "\n",
    "ax1.scatter(clean_city_data.Lat, clean_city_data[\"Max Temp\"],facecolor=\"blue\",edgecolor=\"black\")\n",
    "ax1.set_title(\"City Lat vs Max Temp (4/01/20)\")\n",
    "ax1.set_xlabel(\"Latitude\")\n",
    "ax1.set_ylabel(\"Max Temp(F)\")\n",
    "\n",
    "ax2.scatter(clean_city_data.Lat, clean_city_data[\"Humidity\"],facecolor=\"red\",edgecolor=\"black\")\n",
    "ax2.set_title(\"City Lat vs Humidity(4/01/20)\")\n",
    "ax2.set_xlabel(\"Latitude\")\n",
    "ax2.set_ylabel(\"Humidity(%)\")\n",
    "\n",
    "ax3.scatter(clean_city_data.Lat, clean_city_data[\"Cloudiness\"],facecolor=\"green\",edgecolor=\"black\")\n",
    "ax3.set_title(\"City Lat vs Cloudiness (4/01/20)\")\n",
    "ax3.set_xlabel(\"Latitude\")\n",
    "ax3.set_ylabel(\"Cloudiness(%)\")\n",
    "\n",
    "ax4.scatter(clean_city_data.Lat, clean_city_data[\"Wind Speed\"],facecolor=\"orange\",edgecolor=\"black\")\n",
    "ax4.set_title(\"City Lat vs Wind Speed (4/01/20)\")\n",
    "ax4.set_xlabel(\"Latitude\")\n",
    "ax4.set_ylabel(\"Wind Speed(MPH)\")\n",
    "\n",
    "plt.tight_layout()\n",
    "plt.show()"
   ]
  },
  {
   "cell_type": "markdown",
   "metadata": {},
   "source": [
    "## Latitude vs. Humidity Plot"
   ]
  },
  {
   "cell_type": "code",
   "execution_count": null,
   "metadata": {},
   "outputs": [],
   "source": []
  },
  {
   "cell_type": "markdown",
   "metadata": {},
   "source": [
    "## Latitude vs. Cloudiness Plot"
   ]
  },
  {
   "cell_type": "code",
   "execution_count": null,
   "metadata": {},
   "outputs": [],
   "source": []
  },
  {
   "cell_type": "markdown",
   "metadata": {},
   "source": [
    "## Latitude vs. Wind Speed Plot"
   ]
  },
  {
   "cell_type": "code",
   "execution_count": null,
   "metadata": {},
   "outputs": [],
   "source": []
  },
  {
   "cell_type": "markdown",
   "metadata": {},
   "source": [
    "## Linear Regression"
   ]
  },
  {
   "cell_type": "code",
   "execution_count": 16,
   "metadata": {},
   "outputs": [],
   "source": [
    "north= clean_city_data[clean_city_data.Lat>=0] \n",
    "south= clean_city_data[clean_city_data.Lat<0] "
   ]
  },
  {
   "cell_type": "code",
   "execution_count": 19,
   "metadata": {},
   "outputs": [],
   "source": [
    "def LinReg_scatter(x,y):\n",
    "    print('The r^2 is : {}'.format(round(stats.pearsonr(x,y)[0],2)))\n",
    "    slope, intercept, r_value, p_value, std_error = stats.linregress(x,y)\n",
    "    regress_vals = x * slope + intercept\n",
    "    line = 'y = ' + str(round(slope,2)) + 'x + ' + str(round(intercept,2))\n",
    "    plt.scatter(x,y)\n",
    "    plt.plot(x, regress_vals, 'r-')\n",
    "    print(line)"
   ]
  },
  {
   "cell_type": "markdown",
   "metadata": {},
   "source": [
    "####  Northern Hemisphere - Max Temp vs. Latitude Linear Regression"
   ]
  },
  {
   "cell_type": "code",
   "execution_count": 20,
   "metadata": {},
   "outputs": [
    {
     "name": "stdout",
     "output_type": "stream",
     "text": [
      "The r^2 is : -0.92\n",
      "y = -0.94x + 91.32\n"
     ]
    },
    {
     "data": {
      "image/png": "[encoded data removed]",
      "text/plain": [
       "<Figure size 432x288 with 1 Axes>"
      ]
     },
     "metadata": {
      "needs_background": "light"
     },
     "output_type": "display_data"
    }
   ],
   "source": [
    "LinReg_scatter(north[\"Max Temp\"],north.Lat)\n",
    "#plt.title\n",
    "#plt.xlabel\n",
    "#plt.ylabel\n",
    "plt.show()"
   ]
  },
  {
   "cell_type": "markdown",
   "metadata": {},
   "source": [
    "####  Southern Hemisphere - Max Temp vs. Latitude Linear Regression"
   ]
  },
  {
   "cell_type": "code",
   "execution_count": 21,
   "metadata": {},
   "outputs": [
    {
     "name": "stdout",
     "output_type": "stream",
     "text": [
      "The r^2 is : 0.8\n",
      "y = 0.97x + -87.9\n"
     ]
    },
    {
     "data": {
      "image/png": "[encoded data removed]",
      "text/plain": [
       "<Figure size 432x288 with 1 Axes>"
      ]
     },
     "metadata": {
      "needs_background": "light"
     },
     "output_type": "display_data"
    }
   ],
   "source": [
    "LinReg_scatter(south[\"Max Temp\"],south.Lat)\n",
    "plt.show()"
   ]
  },
  {
   "cell_type": "markdown",
   "metadata": {},
   "source": [
    "####  Northern Hemisphere - Humidity (%) vs. Latitude Linear Regression"
   ]
  },
  {
   "cell_type": "code",
   "execution_count": 24,
   "metadata": {},
   "outputs": [
    {
     "name": "stdout",
     "output_type": "stream",
     "text": [
      "The r^2 is : 0.13\n",
      "y = 0.25x + 20.22\n"
     ]
    },
    {
     "data": {
      "image/png": "[encoded data removed]",
      "text/plain": [
       "<Figure size 432x288 with 1 Axes>"
      ]
     },
     "metadata": {
      "needs_background": "light"
     },
     "output_type": "display_data"
    }
   ],
   "source": [
    "LinReg_scatter(north[\"Humidity\"],north.Lat)\n",
    "plt.show()"
   ]
  },
  {
   "cell_type": "markdown",
   "metadata": {},
   "source": [
    "####  Southern Hemisphere - Humidity (%) vs. Latitude Linear Regression"
   ]
  },
  {
   "cell_type": "code",
   "execution_count": 25,
   "metadata": {},
   "outputs": [
    {
     "name": "stdout",
     "output_type": "stream",
     "text": [
      "The r^2 is : 0.14\n",
      "y = 0.17x + -33.56\n"
     ]
    },
    {
     "data": {
      "image/png": "[encoded data removed]",
      "text/plain": [
       "<Figure size 432x288 with 1 Axes>"
      ]
     },
     "metadata": {
      "needs_background": "light"
     },
     "output_type": "display_data"
    }
   ],
   "source": [
    "LinReg_scatter(south[\"Humidity\"],south.Lat)\n",
    "plt.show()"
   ]
  },
  {
   "cell_type": "markdown",
   "metadata": {},
   "source": [
    "####  Northern Hemisphere - Cloudiness (%) vs. Latitude Linear Regression"
   ]
  },
  {
   "cell_type": "code",
   "execution_count": 27,
   "metadata": {},
   "outputs": [
    {
     "name": "stdout",
     "output_type": "stream",
     "text": [
      "The r^2 is : 0.18\n",
      "y = 0.11x + 32.1\n"
     ]
    },
    {
     "data": {
      "image/png": "[encoded data removed]",
      "text/plain": [
       "<Figure size 432x288 with 1 Axes>"
      ]
     },
     "metadata": {
      "needs_background": "light"
     },
     "output_type": "display_data"
    }
   ],
   "source": [
    "LinReg_scatter(north[\"Cloudiness\"],north.Lat)\n",
    "plt.show()"
   ]
  },
  {
   "cell_type": "markdown",
   "metadata": {},
   "source": [
    "####  Southern Hemisphere - Cloudiness (%) vs. Latitude Linear Regression"
   ]
  },
  {
   "cell_type": "code",
   "execution_count": 28,
   "metadata": {},
   "outputs": [
    {
     "name": "stdout",
     "output_type": "stream",
     "text": [
      "The r^2 is : -0.03\n",
      "y = -0.01x + -20.06\n"
     ]
    },
    {
     "data": {
      "image/png": "[encoded data removed]",
      "text/plain": [
       "<Figure size 432x288 with 1 Axes>"
      ]
     },
     "metadata": {
      "needs_background": "light"
     },
     "output_type": "display_data"
    }
   ],
   "source": [
    "LinReg_scatter(south[\"Cloudiness\"],south.Lat)\n",
    "plt.show()"
   ]
  },
  {
   "cell_type": "markdown",
   "metadata": {},
   "source": [
    "####  Northern Hemisphere - Wind Speed (mph) vs. Latitude Linear Regression"
   ]
  },
  {
   "cell_type": "code",
   "execution_count": 29,
   "metadata": {},
   "outputs": [
    {
     "name": "stdout",
     "output_type": "stream",
     "text": [
      "The r^2 is : 0.06\n",
      "y = 0.29x + 36.92\n"
     ]
    },
    {
     "data": {
      "image/png": "[encoded data removed]",
      "text/plain": [
       "<Figure size 432x288 with 1 Axes>"
      ]
     },
     "metadata": {
      "needs_background": "light"
     },
     "output_type": "display_data"
    }
   ],
   "source": [
    "LinReg_scatter(north[\"Wind Speed\"],north.Lat)\n",
    "plt.show()"
   ]
  },
  {
   "cell_type": "markdown",
   "metadata": {},
   "source": [
    "####  Southern Hemisphere - Wind Speed (mph) vs. Latitude Linear Regression"
   ]
  },
  {
   "cell_type": "code",
   "execution_count": 30,
   "metadata": {},
   "outputs": [
    {
     "name": "stdout",
     "output_type": "stream",
     "text": [
      "The r^2 is : 0.04\n",
      "y = 0.11x + -21.38\n"
     ]
    },
    {
     "data": {
      "image/png": "[encoded data removed]",
      "text/plain": [
       "<Figure size 432x288 with 1 Axes>"
      ]
     },
     "metadata": {
      "needs_background": "light"
     },
     "output_type": "display_data"
    }
   ],
   "source": [
    "LinReg_scatter(south[\"Wind Speed\"],south.Lat)\n",
    "plt.show()"
   ]
  },
  {
   "cell_type": "code",
   "execution_count": null,
   "metadata": {},
   "outputs": [],
   "source": []
  }
 ],
 "metadata": {
  "anaconda-cloud": {},
  "kernel_info": {
   "name": "python3"
  },
  "kernelspec": {
   "display_name": "Python [conda env:PythonData] *",
   "language": "python",
   "name": "conda-env-PythonData-py"
  },
  "language_info": {
   "codemirror_mode": {
    "name": "ipython",
    "version": 3
   },
   "file_extension": ".py",
   "mimetype": "text/x-python",
   "name": "python",
   "nbconvert_exporter": "python",
   "pygments_lexer": "ipython3",
   "version": "3.6.10"
  },
  "latex_envs": {
   "LaTeX_envs_menu_present": true,
   "autoclose": false,
   "autocomplete": true,
   "bibliofile": "biblio.bib",
   "cite_by": "apalike",
   "current_citInitial": 1,
   "eqLabelWithNumbers": true,
   "eqNumInitial": 1,
   "hotkeys": {
    "equation": "Ctrl-E",
    "itemize": "Ctrl-I"
   },
   "labels_anchors": false,
   "latex_user_defs": false,
   "report_style_numbering": false,
   "user_envs_cfg": false
  },
  "nteract": {
   "version": "0.12.3"
  }
 },
 "nbformat": 4,
 "nbformat_minor": 2
}
