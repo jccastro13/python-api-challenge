{
 "cells": [
  {
   "cell_type": "markdown",
   "metadata": {},
   "source": [
    "### Note\n",
    "* Instructions have been included for each segment. You do not have to follow them exactly, but they are included to help you think through the steps."
   ]
  },
  {
   "cell_type": "code",
   "execution_count": 268,
   "metadata": {},
   "outputs": [],
   "source": [
    "# Dependencies and Setup\n",
    "import pandas as pd\n",
    "import numpy as np\n",
    "heros_df = pd.read_csv(\"HeroesOfPymoli_purchase_data.csv\")\n"
   ]
  },
  {
   "cell_type": "markdown",
   "metadata": {},
   "source": [
    "## Player Count"
   ]
  },
  {
   "cell_type": "markdown",
   "metadata": {},
   "source": [
    "* Display the total number of players\n"
   ]
  },
  {
   "cell_type": "code",
   "execution_count": 269,
   "metadata": {},
   "outputs": [
    {
     "data": {
      "text/html": [
       "<div>\n",
       "<style scoped>\n",
       "    .dataframe tbody tr th:only-of-type {\n",
       "        vertical-align: middle;\n",
       "    }\n",
       "\n",
       "    .dataframe tbody tr th {\n",
       "        vertical-align: top;\n",
       "    }\n",
       "\n",
       "    .dataframe thead th {\n",
       "        text-align: right;\n",
       "    }\n",
       "</style>\n",
       "<table border=\"1\" class=\"dataframe\">\n",
       "  <thead>\n",
       "    <tr style=\"text-align: right;\">\n",
       "      <th></th>\n",
       "      <th>Total Players</th>\n",
       "    </tr>\n",
       "  </thead>\n",
       "  <tbody>\n",
       "    <tr>\n",
       "      <th>0</th>\n",
       "      <td>780</td>\n",
       "    </tr>\n",
       "  </tbody>\n",
       "</table>\n",
       "</div>"
      ],
      "text/plain": [
       "   Total Players\n",
       "0            780"
      ]
     },
     "execution_count": 269,
     "metadata": {},
     "output_type": "execute_result"
    }
   ],
   "source": [
    "total_players = len(heros_df[\"Purchase ID\"].unique())\n",
    "\n",
    "total_df = pd.DataFrame({\"Total Players\":[total_players]})\n",
    "total_df"
   ]
  },
  {
   "cell_type": "markdown",
   "metadata": {},
   "source": [
    "## Purchasing Analysis (Total)"
   ]
  },
  {
   "cell_type": "markdown",
   "metadata": {},
   "source": [
    "* Run basic calculations to obtain number of unique items, average price, etc.\n",
    "\n",
    "\n",
    "* Create a summary data frame to hold the results\n",
    "\n",
    "\n",
    "* Optional: give the displayed data cleaner formatting\n",
    "\n",
    "\n",
    "* Display the summary data frame\n"
   ]
  },
  {
   "cell_type": "code",
   "execution_count": 270,
   "metadata": {
    "scrolled": true
   },
   "outputs": [
    {
     "data": {
      "text/html": [
       "<div>\n",
       "<style scoped>\n",
       "    .dataframe tbody tr th:only-of-type {\n",
       "        vertical-align: middle;\n",
       "    }\n",
       "\n",
       "    .dataframe tbody tr th {\n",
       "        vertical-align: top;\n",
       "    }\n",
       "\n",
       "    .dataframe thead th {\n",
       "        text-align: right;\n",
       "    }\n",
       "</style>\n",
       "<table border=\"1\" class=\"dataframe\">\n",
       "  <thead>\n",
       "    <tr style=\"text-align: right;\">\n",
       "      <th></th>\n",
       "      <th>Number of Unique Items</th>\n",
       "      <th>Average Price</th>\n",
       "      <th>Number of Purchases</th>\n",
       "      <th>Total Revenue</th>\n",
       "    </tr>\n",
       "  </thead>\n",
       "  <tbody>\n",
       "    <tr>\n",
       "      <th>0</th>\n",
       "      <td>179</td>\n",
       "      <td>$3.05</td>\n",
       "      <td>780</td>\n",
       "      <td>$2379.77</td>\n",
       "    </tr>\n",
       "  </tbody>\n",
       "</table>\n",
       "</div>"
      ],
      "text/plain": [
       "   Number of Unique Items Average Price  Number of Purchases Total Revenue\n",
       "0                     179         $3.05                  780      $2379.77"
      ]
     },
     "execution_count": 270,
     "metadata": {},
     "output_type": "execute_result"
    }
   ],
   "source": [
    "unique_items = len(heros_df[\"Item ID\"].unique())\n",
    "average_price = (\"$\"+str(round(heros_df[\"Price\"].mean(),2)))\n",
    "total_revenue = (\"$\"+str(heros_df[\"Price\"].sum()))\n",
    "\n",
    "summary_df = pd.DataFrame({\"Number of Unique Items\":[unique_items],\n",
    "                          \"Average Price\":[average_price],\n",
    "                          \"Number of Purchases\":[total_players],\n",
    "                          \"Total Revenue\":[total_revenue]})\n",
    "                       \n",
    "summary_df"
   ]
  },
  {
   "cell_type": "markdown",
   "metadata": {},
   "source": [
    "## Gender Demographics"
   ]
  },
  {
   "cell_type": "markdown",
   "metadata": {},
   "source": [
    "* Percentage and Count of Male Players\n",
    "\n",
    "\n",
    "* Percentage and Count of Female Players\n",
    "\n",
    "\n",
    "* Percentage and Count of Other / Non-Disclosed\n",
    "\n",
    "\n"
   ]
  },
  {
   "cell_type": "code",
   "execution_count": 271,
   "metadata": {},
   "outputs": [
    {
     "data": {
      "text/html": [
       "<style  type=\"text/css\" >\n",
       "</style><table id=\"T_88b3dc30_9b57_11eb_86a6_9db2262745d7\" ><thead>    <tr>        <th class=\"blank level0\" ></th>        <th class=\"col_heading level0 col0\" >Total Count</th>        <th class=\"col_heading level0 col1\" >Percentage of Player</th>    </tr></thead><tbody>\n",
       "                <tr>\n",
       "                        <th id=\"T_88b3dc30_9b57_11eb_86a6_9db2262745d7level0_row0\" class=\"row_heading level0 row0\" >Male</th>\n",
       "                        <td id=\"T_88b3dc30_9b57_11eb_86a6_9db2262745d7row0_col0\" class=\"data row0 col0\" >652</td>\n",
       "                        <td id=\"T_88b3dc30_9b57_11eb_86a6_9db2262745d7row0_col1\" class=\"data row0 col1\" >83.59%</td>\n",
       "            </tr>\n",
       "            <tr>\n",
       "                        <th id=\"T_88b3dc30_9b57_11eb_86a6_9db2262745d7level0_row1\" class=\"row_heading level0 row1\" >Female</th>\n",
       "                        <td id=\"T_88b3dc30_9b57_11eb_86a6_9db2262745d7row1_col0\" class=\"data row1 col0\" >113</td>\n",
       "                        <td id=\"T_88b3dc30_9b57_11eb_86a6_9db2262745d7row1_col1\" class=\"data row1 col1\" >14.49%</td>\n",
       "            </tr>\n",
       "            <tr>\n",
       "                        <th id=\"T_88b3dc30_9b57_11eb_86a6_9db2262745d7level0_row2\" class=\"row_heading level0 row2\" >Other / Non-Disclosed</th>\n",
       "                        <td id=\"T_88b3dc30_9b57_11eb_86a6_9db2262745d7row2_col0\" class=\"data row2 col0\" >15</td>\n",
       "                        <td id=\"T_88b3dc30_9b57_11eb_86a6_9db2262745d7row2_col1\" class=\"data row2 col1\" >1.92%</td>\n",
       "            </tr>\n",
       "    </tbody></table>"
      ],
      "text/plain": [
       "<pandas.io.formats.style.Styler at 0x12bf3b65a58>"
      ]
     },
     "execution_count": 271,
     "metadata": {},
     "output_type": "execute_result"
    }
   ],
   "source": [
    "gender_group = heros_df.groupby(\"Gender\")\n",
    "gen_count = heros_df[\"Gender\"].value_counts()\n",
    "percent_gender = round(gen_count/total_players*100,2)\n",
    "gender_count_df = pd.DataFrame({\"Total Count\":gen_count,\n",
    "                                \"Percentage of Player\":percent_gender})\n",
    "gender_count_df.style.format({\"Percentage of Player\":\"{:.2f}%\"})"
   ]
  },
  {
   "cell_type": "markdown",
   "metadata": {},
   "source": [
    "\n",
    "## Purchasing Analysis (Gender)"
   ]
  },
  {
   "cell_type": "markdown",
   "metadata": {},
   "source": [
    "* Run basic calculations to obtain purchase count, avg. purchase price, avg. purchase total per person etc. by gender\n",
    "\n",
    "\n",
    "\n",
    "\n",
    "* Create a summary data frame to hold the results\n",
    "\n",
    "\n",
    "* Optional: give the displayed data cleaner formatting\n",
    "\n",
    "\n",
    "* Display the summary data frame"
   ]
  },
  {
   "cell_type": "code",
   "execution_count": 272,
   "metadata": {
    "scrolled": true
   },
   "outputs": [
    {
     "data": {
      "text/html": [
       "<style  type=\"text/css\" >\n",
       "</style><table id=\"T_8980447e_9b57_11eb_beb9_9db2262745d7\" ><thead>    <tr>        <th class=\"blank level0\" ></th>        <th class=\"col_heading level0 col0\" >Purchase Count</th>        <th class=\"col_heading level0 col1\" >Avg Purchase Price</th>        <th class=\"col_heading level0 col2\" >Total Purchase Value</th>        <th class=\"col_heading level0 col3\" >Avg Total Purchase PP</th>    </tr>    <tr>        <th class=\"index_name level0\" >Gender</th>        <th class=\"blank\" ></th>        <th class=\"blank\" ></th>        <th class=\"blank\" ></th>        <th class=\"blank\" ></th>    </tr></thead><tbody>\n",
       "                <tr>\n",
       "                        <th id=\"T_8980447e_9b57_11eb_beb9_9db2262745d7level0_row0\" class=\"row_heading level0 row0\" >Female</th>\n",
       "                        <td id=\"T_8980447e_9b57_11eb_beb9_9db2262745d7row0_col0\" class=\"data row0 col0\" >113</td>\n",
       "                        <td id=\"T_8980447e_9b57_11eb_beb9_9db2262745d7row0_col1\" class=\"data row0 col1\" >$3.20</td>\n",
       "                        <td id=\"T_8980447e_9b57_11eb_beb9_9db2262745d7row0_col2\" class=\"data row0 col2\" >$361.94</td>\n",
       "                        <td id=\"T_8980447e_9b57_11eb_beb9_9db2262745d7row0_col3\" class=\"data row0 col3\" >$4.47</td>\n",
       "            </tr>\n",
       "            <tr>\n",
       "                        <th id=\"T_8980447e_9b57_11eb_beb9_9db2262745d7level0_row1\" class=\"row_heading level0 row1\" >Male</th>\n",
       "                        <td id=\"T_8980447e_9b57_11eb_beb9_9db2262745d7row1_col0\" class=\"data row1 col0\" >652</td>\n",
       "                        <td id=\"T_8980447e_9b57_11eb_beb9_9db2262745d7row1_col1\" class=\"data row1 col1\" >$3.02</td>\n",
       "                        <td id=\"T_8980447e_9b57_11eb_beb9_9db2262745d7row1_col2\" class=\"data row1 col2\" >$1967.64</td>\n",
       "                        <td id=\"T_8980447e_9b57_11eb_beb9_9db2262745d7row1_col3\" class=\"data row1 col3\" >$4.07</td>\n",
       "            </tr>\n",
       "            <tr>\n",
       "                        <th id=\"T_8980447e_9b57_11eb_beb9_9db2262745d7level0_row2\" class=\"row_heading level0 row2\" >Other / Non-Disclosed</th>\n",
       "                        <td id=\"T_8980447e_9b57_11eb_beb9_9db2262745d7row2_col0\" class=\"data row2 col0\" >15</td>\n",
       "                        <td id=\"T_8980447e_9b57_11eb_beb9_9db2262745d7row2_col1\" class=\"data row2 col1\" >$3.35</td>\n",
       "                        <td id=\"T_8980447e_9b57_11eb_beb9_9db2262745d7row2_col2\" class=\"data row2 col2\" >$50.19</td>\n",
       "                        <td id=\"T_8980447e_9b57_11eb_beb9_9db2262745d7row2_col3\" class=\"data row2 col3\" >$4.56</td>\n",
       "            </tr>\n",
       "    </tbody></table>"
      ],
      "text/plain": [
       "<pandas.io.formats.style.Styler at 0x12bf51de4a8>"
      ]
     },
     "execution_count": 272,
     "metadata": {},
     "output_type": "execute_result"
    }
   ],
   "source": [
    "gender_group = heros_df.groupby(\"Gender\")\n",
    "purchase_count= gender_group[\"SN\"].count()\n",
    "avg_purchase_price = gender_group[\"Price\"].mean()\n",
    "total_purchase_value = gender_group[\"Price\"].sum()\n",
    "total_gen_count = gender_group.nunique()[\"SN\"]\n",
    "avg_total_pp = round(total_purchase_value/total_gen_count,2)\n",
    "\n",
    "gender_summary= pd.DataFrame({\"Purchase Count\":purchase_count,\n",
    "                             \"Avg Purchase Price\":round(avg_purchase_price,2),\n",
    "                             \"Total Purchase Value\":total_purchase_value,\n",
    "                             \"Avg Total Purchase PP\":avg_total_pp,})\n",
    "gender_summary.style.format({\"Avg Purchase Price\":\"${:.2f}\",\n",
    "                            \"Total Purchase Value\":\"${:.2f}\",\n",
    "                            \"Avg Total Purchase PP\":\"${:.2f}\"})"
   ]
  },
  {
   "cell_type": "markdown",
   "metadata": {},
   "source": [
    "## Age Demographics"
   ]
  },
  {
   "cell_type": "markdown",
   "metadata": {},
   "source": [
    "* Establish bins for ages\n",
    "\n",
    "\n",
    "* Categorize the existing players using the age bins. Hint: use pd.cut()\n",
    "\n",
    "\n",
    "* Calculate the numbers and percentages by age group\n",
    "\n",
    "\n",
    "* Create a summary data frame to hold the results\n",
    "\n",
    "\n",
    "* Optional: round the percentage column to two decimal points\n",
    "\n",
    "\n",
    "* Display Age Demographics Table\n"
   ]
  },
  {
   "cell_type": "code",
   "execution_count": 239,
   "metadata": {},
   "outputs": [
    {
     "data": {
      "text/html": [
       "<style  type=\"text/css\" >\n",
       "</style><table id=\"T_17217ec6_9b4f_11eb_905d_9db2262745d7\" ><thead>    <tr>        <th class=\"blank level0\" ></th>        <th class=\"col_heading level0 col0\" >Total Count</th>        <th class=\"col_heading level0 col1\" >Percentage of Players</th>    </tr>    <tr>        <th class=\"index_name level0\" >Age Groups</th>        <th class=\"blank\" ></th>        <th class=\"blank\" ></th>    </tr></thead><tbody>\n",
       "                <tr>\n",
       "                        <th id=\"T_17217ec6_9b4f_11eb_905d_9db2262745d7level0_row0\" class=\"row_heading level0 row0\" ><10</th>\n",
       "                        <td id=\"T_17217ec6_9b4f_11eb_905d_9db2262745d7row0_col0\" class=\"data row0 col0\" >17</td>\n",
       "                        <td id=\"T_17217ec6_9b4f_11eb_905d_9db2262745d7row0_col1\" class=\"data row0 col1\" >2.18%</td>\n",
       "            </tr>\n",
       "            <tr>\n",
       "                        <th id=\"T_17217ec6_9b4f_11eb_905d_9db2262745d7level0_row1\" class=\"row_heading level0 row1\" >10-14</th>\n",
       "                        <td id=\"T_17217ec6_9b4f_11eb_905d_9db2262745d7row1_col0\" class=\"data row1 col0\" >22</td>\n",
       "                        <td id=\"T_17217ec6_9b4f_11eb_905d_9db2262745d7row1_col1\" class=\"data row1 col1\" >2.82%</td>\n",
       "            </tr>\n",
       "            <tr>\n",
       "                        <th id=\"T_17217ec6_9b4f_11eb_905d_9db2262745d7level0_row2\" class=\"row_heading level0 row2\" >15-19</th>\n",
       "                        <td id=\"T_17217ec6_9b4f_11eb_905d_9db2262745d7row2_col0\" class=\"data row2 col0\" >107</td>\n",
       "                        <td id=\"T_17217ec6_9b4f_11eb_905d_9db2262745d7row2_col1\" class=\"data row2 col1\" >13.72%</td>\n",
       "            </tr>\n",
       "            <tr>\n",
       "                        <th id=\"T_17217ec6_9b4f_11eb_905d_9db2262745d7level0_row3\" class=\"row_heading level0 row3\" >20-24</th>\n",
       "                        <td id=\"T_17217ec6_9b4f_11eb_905d_9db2262745d7row3_col0\" class=\"data row3 col0\" >258</td>\n",
       "                        <td id=\"T_17217ec6_9b4f_11eb_905d_9db2262745d7row3_col1\" class=\"data row3 col1\" >33.08%</td>\n",
       "            </tr>\n",
       "            <tr>\n",
       "                        <th id=\"T_17217ec6_9b4f_11eb_905d_9db2262745d7level0_row4\" class=\"row_heading level0 row4\" >25-29</th>\n",
       "                        <td id=\"T_17217ec6_9b4f_11eb_905d_9db2262745d7row4_col0\" class=\"data row4 col0\" >102</td>\n",
       "                        <td id=\"T_17217ec6_9b4f_11eb_905d_9db2262745d7row4_col1\" class=\"data row4 col1\" >13.08%</td>\n",
       "            </tr>\n",
       "            <tr>\n",
       "                        <th id=\"T_17217ec6_9b4f_11eb_905d_9db2262745d7level0_row5\" class=\"row_heading level0 row5\" >30-34</th>\n",
       "                        <td id=\"T_17217ec6_9b4f_11eb_905d_9db2262745d7row5_col0\" class=\"data row5 col0\" >27</td>\n",
       "                        <td id=\"T_17217ec6_9b4f_11eb_905d_9db2262745d7row5_col1\" class=\"data row5 col1\" >3.46%</td>\n",
       "            </tr>\n",
       "            <tr>\n",
       "                        <th id=\"T_17217ec6_9b4f_11eb_905d_9db2262745d7level0_row6\" class=\"row_heading level0 row6\" >35-39</th>\n",
       "                        <td id=\"T_17217ec6_9b4f_11eb_905d_9db2262745d7row6_col0\" class=\"data row6 col0\" >31</td>\n",
       "                        <td id=\"T_17217ec6_9b4f_11eb_905d_9db2262745d7row6_col1\" class=\"data row6 col1\" >3.97%</td>\n",
       "            </tr>\n",
       "            <tr>\n",
       "                        <th id=\"T_17217ec6_9b4f_11eb_905d_9db2262745d7level0_row7\" class=\"row_heading level0 row7\" >40+</th>\n",
       "                        <td id=\"T_17217ec6_9b4f_11eb_905d_9db2262745d7row7_col0\" class=\"data row7 col0\" >12</td>\n",
       "                        <td id=\"T_17217ec6_9b4f_11eb_905d_9db2262745d7row7_col1\" class=\"data row7 col1\" >1.54%</td>\n",
       "            </tr>\n",
       "    </tbody></table>"
      ],
      "text/plain": [
       "<pandas.io.formats.style.Styler at 0x12bf51968d0>"
      ]
     },
     "execution_count": 239,
     "metadata": {},
     "output_type": "execute_result"
    }
   ],
   "source": [
    "age_range = [0,9.9,14.9,19.9,24.9,30.9,34.9,39.9,99999]\n",
    "age_group = [\"<10\",\"10-14\",\"15-19\",\"20-24\",\"25-29\",\"30-34\",\"35-39\",\"40+\"]\n",
    "\n",
    "heros_df[\"Age Groups\"]=pd.cut(heros_df[\"Age\"],age_range, labels = age_group)\n",
    "\n",
    "age_range_grouped = heros_df.groupby(\"Age Groups\")\n",
    "total_count = age_range_grouped[\"SN\"].nunique()\n",
    "percent_of_players = (total_count/total_players)*100\n",
    "age_summary = pd.DataFrame({\"Total Count\": total_count,\n",
    "                           \"Percentage of Players\":percent_of_players})\n",
    "age_summary.style.format({\"Percentage of Players\":\"{:.2f}%\"})"
   ]
  },
  {
   "cell_type": "markdown",
   "metadata": {},
   "source": [
    "## Purchasing Analysis (Age)"
   ]
  },
  {
   "cell_type": "markdown",
   "metadata": {},
   "source": [
    "* Bin the purchase_data data frame by age\n",
    "\n",
    "\n",
    "* Run basic calculations to obtain purchase count, avg. purchase price, avg. purchase total per person etc. in the table below\n",
    "\n",
    "\n",
    "* Create a summary data frame to hold the results\n",
    "\n",
    "\n",
    "* Optional: give the displayed data cleaner formatting\n",
    "\n",
    "\n",
    "* Display the summary data frame"
   ]
  },
  {
   "cell_type": "code",
   "execution_count": 245,
   "metadata": {},
   "outputs": [
    {
     "data": {
      "text/html": [
       "<style  type=\"text/css\" >\n",
       "</style><table id=\"T_f643d6c6_9b50_11eb_8e3e_9db2262745d7\" ><thead>    <tr>        <th class=\"blank level0\" ></th>        <th class=\"col_heading level0 col0\" >Purchase Count</th>        <th class=\"col_heading level0 col1\" >Average Purchase Price</th>        <th class=\"col_heading level0 col2\" >Total Purchase Value</th>        <th class=\"col_heading level0 col3\" >Avg Total Purchase PP</th>    </tr>    <tr>        <th class=\"index_name level0\" >Age Groups</th>        <th class=\"blank\" ></th>        <th class=\"blank\" ></th>        <th class=\"blank\" ></th>        <th class=\"blank\" ></th>    </tr></thead><tbody>\n",
       "                <tr>\n",
       "                        <th id=\"T_f643d6c6_9b50_11eb_8e3e_9db2262745d7level0_row0\" class=\"row_heading level0 row0\" ><10</th>\n",
       "                        <td id=\"T_f643d6c6_9b50_11eb_8e3e_9db2262745d7row0_col0\" class=\"data row0 col0\" >17</td>\n",
       "                        <td id=\"T_f643d6c6_9b50_11eb_8e3e_9db2262745d7row0_col1\" class=\"data row0 col1\" >$3.35</td>\n",
       "                        <td id=\"T_f643d6c6_9b50_11eb_8e3e_9db2262745d7row0_col2\" class=\"data row0 col2\" >$77.13</td>\n",
       "                        <td id=\"T_f643d6c6_9b50_11eb_8e3e_9db2262745d7row0_col3\" class=\"data row0 col3\" >4.54</td>\n",
       "            </tr>\n",
       "            <tr>\n",
       "                        <th id=\"T_f643d6c6_9b50_11eb_8e3e_9db2262745d7level0_row1\" class=\"row_heading level0 row1\" >10-14</th>\n",
       "                        <td id=\"T_f643d6c6_9b50_11eb_8e3e_9db2262745d7row1_col0\" class=\"data row1 col0\" >22</td>\n",
       "                        <td id=\"T_f643d6c6_9b50_11eb_8e3e_9db2262745d7row1_col1\" class=\"data row1 col1\" >$2.96</td>\n",
       "                        <td id=\"T_f643d6c6_9b50_11eb_8e3e_9db2262745d7row1_col2\" class=\"data row1 col2\" >$82.78</td>\n",
       "                        <td id=\"T_f643d6c6_9b50_11eb_8e3e_9db2262745d7row1_col3\" class=\"data row1 col3\" >3.76</td>\n",
       "            </tr>\n",
       "            <tr>\n",
       "                        <th id=\"T_f643d6c6_9b50_11eb_8e3e_9db2262745d7level0_row2\" class=\"row_heading level0 row2\" >15-19</th>\n",
       "                        <td id=\"T_f643d6c6_9b50_11eb_8e3e_9db2262745d7row2_col0\" class=\"data row2 col0\" >107</td>\n",
       "                        <td id=\"T_f643d6c6_9b50_11eb_8e3e_9db2262745d7row2_col1\" class=\"data row2 col1\" >$3.04</td>\n",
       "                        <td id=\"T_f643d6c6_9b50_11eb_8e3e_9db2262745d7row2_col2\" class=\"data row2 col2\" >$412.89</td>\n",
       "                        <td id=\"T_f643d6c6_9b50_11eb_8e3e_9db2262745d7row2_col3\" class=\"data row2 col3\" >3.86</td>\n",
       "            </tr>\n",
       "            <tr>\n",
       "                        <th id=\"T_f643d6c6_9b50_11eb_8e3e_9db2262745d7level0_row3\" class=\"row_heading level0 row3\" >20-24</th>\n",
       "                        <td id=\"T_f643d6c6_9b50_11eb_8e3e_9db2262745d7row3_col0\" class=\"data row3 col0\" >258</td>\n",
       "                        <td id=\"T_f643d6c6_9b50_11eb_8e3e_9db2262745d7row3_col1\" class=\"data row3 col1\" >$3.05</td>\n",
       "                        <td id=\"T_f643d6c6_9b50_11eb_8e3e_9db2262745d7row3_col2\" class=\"data row3 col2\" >$1114.06</td>\n",
       "                        <td id=\"T_f643d6c6_9b50_11eb_8e3e_9db2262745d7row3_col3\" class=\"data row3 col3\" >4.32</td>\n",
       "            </tr>\n",
       "            <tr>\n",
       "                        <th id=\"T_f643d6c6_9b50_11eb_8e3e_9db2262745d7level0_row4\" class=\"row_heading level0 row4\" >25-29</th>\n",
       "                        <td id=\"T_f643d6c6_9b50_11eb_8e3e_9db2262745d7row4_col0\" class=\"data row4 col0\" >102</td>\n",
       "                        <td id=\"T_f643d6c6_9b50_11eb_8e3e_9db2262745d7row4_col1\" class=\"data row4 col1\" >$2.97</td>\n",
       "                        <td id=\"T_f643d6c6_9b50_11eb_8e3e_9db2262745d7row4_col2\" class=\"data row4 col2\" >$403.32</td>\n",
       "                        <td id=\"T_f643d6c6_9b50_11eb_8e3e_9db2262745d7row4_col3\" class=\"data row4 col3\" >3.95</td>\n",
       "            </tr>\n",
       "            <tr>\n",
       "                        <th id=\"T_f643d6c6_9b50_11eb_8e3e_9db2262745d7level0_row5\" class=\"row_heading level0 row5\" >30-34</th>\n",
       "                        <td id=\"T_f643d6c6_9b50_11eb_8e3e_9db2262745d7row5_col0\" class=\"data row5 col0\" >27</td>\n",
       "                        <td id=\"T_f643d6c6_9b50_11eb_8e3e_9db2262745d7row5_col1\" class=\"data row5 col1\" >$2.73</td>\n",
       "                        <td id=\"T_f643d6c6_9b50_11eb_8e3e_9db2262745d7row5_col2\" class=\"data row5 col2\" >$103.68</td>\n",
       "                        <td id=\"T_f643d6c6_9b50_11eb_8e3e_9db2262745d7row5_col3\" class=\"data row5 col3\" >3.84</td>\n",
       "            </tr>\n",
       "            <tr>\n",
       "                        <th id=\"T_f643d6c6_9b50_11eb_8e3e_9db2262745d7level0_row6\" class=\"row_heading level0 row6\" >35-39</th>\n",
       "                        <td id=\"T_f643d6c6_9b50_11eb_8e3e_9db2262745d7row6_col0\" class=\"data row6 col0\" >31</td>\n",
       "                        <td id=\"T_f643d6c6_9b50_11eb_8e3e_9db2262745d7row6_col1\" class=\"data row6 col1\" >$3.60</td>\n",
       "                        <td id=\"T_f643d6c6_9b50_11eb_8e3e_9db2262745d7row6_col2\" class=\"data row6 col2\" >$147.67</td>\n",
       "                        <td id=\"T_f643d6c6_9b50_11eb_8e3e_9db2262745d7row6_col3\" class=\"data row6 col3\" >4.76</td>\n",
       "            </tr>\n",
       "            <tr>\n",
       "                        <th id=\"T_f643d6c6_9b50_11eb_8e3e_9db2262745d7level0_row7\" class=\"row_heading level0 row7\" >40+</th>\n",
       "                        <td id=\"T_f643d6c6_9b50_11eb_8e3e_9db2262745d7row7_col0\" class=\"data row7 col0\" >12</td>\n",
       "                        <td id=\"T_f643d6c6_9b50_11eb_8e3e_9db2262745d7row7_col1\" class=\"data row7 col1\" >$2.94</td>\n",
       "                        <td id=\"T_f643d6c6_9b50_11eb_8e3e_9db2262745d7row7_col2\" class=\"data row7 col2\" >$38.24</td>\n",
       "                        <td id=\"T_f643d6c6_9b50_11eb_8e3e_9db2262745d7row7_col3\" class=\"data row7 col3\" >3.19</td>\n",
       "            </tr>\n",
       "    </tbody></table>"
      ],
      "text/plain": [
       "<pandas.io.formats.style.Styler at 0x12bf5188668>"
      ]
     },
     "execution_count": 245,
     "metadata": {},
     "output_type": "execute_result"
    }
   ],
   "source": [
    "age_purchase_count = age_range_grouped[\"SN\"].count()\n",
    "age_avg_pp = age_range_grouped[\"Price\"].mean()\n",
    "age_pv = age_range_grouped[\"Price\"].sum()\n",
    "age_avg_purchase_pp = age_pv/total_count\n",
    "new_age_summary = pd.DataFrame({\"Purchase Count\": total_count,\n",
    "                                \"Average Purchase Price\":age_avg_pp,\n",
    "                                \"Total Purchase Value\":age_pv,\n",
    "                                \"Avg Total Purchase PP\":age_avg_purchase_pp})\n",
    "new_age_summary.style.format({\"Average Purchase Price\":\"${:.2f}\",\n",
    "                             \"Total Purchase Value\":\"${:.2f}\",\n",
    "                             \"Avg Total Purchase PP\":\"{:.2f}\"})"
   ]
  },
  {
   "cell_type": "markdown",
   "metadata": {},
   "source": [
    "## Top Spenders"
   ]
  },
  {
   "cell_type": "markdown",
   "metadata": {},
   "source": [
    "* Run basic calculations to obtain the results in the table below\n",
    "\n",
    "\n",
    "* Create a summary data frame to hold the results\n",
    "\n",
    "\n",
    "* Sort the total purchase value column in descending order\n",
    "\n",
    "\n",
    "* Optional: give the displayed data cleaner formatting\n",
    "\n",
    "\n",
    "* Display a preview of the summary data frame\n",
    "\n"
   ]
  },
  {
   "cell_type": "code",
   "execution_count": 253,
   "metadata": {},
   "outputs": [
    {
     "data": {
      "text/html": [
       "<style  type=\"text/css\" >\n",
       "</style><table id=\"T_b66e4f3e_9b52_11eb_b57c_9db2262745d7\" ><thead>    <tr>        <th class=\"blank level0\" ></th>        <th class=\"col_heading level0 col0\" >Purchase count</th>        <th class=\"col_heading level0 col1\" >Average Purchase Price</th>        <th class=\"col_heading level0 col2\" >Total Purchase Value</th>    </tr>    <tr>        <th class=\"index_name level0\" >SN</th>        <th class=\"blank\" ></th>        <th class=\"blank\" ></th>        <th class=\"blank\" ></th>    </tr></thead><tbody>\n",
       "                <tr>\n",
       "                        <th id=\"T_b66e4f3e_9b52_11eb_b57c_9db2262745d7level0_row0\" class=\"row_heading level0 row0\" >Lisosia93</th>\n",
       "                        <td id=\"T_b66e4f3e_9b52_11eb_b57c_9db2262745d7row0_col0\" class=\"data row0 col0\" >5</td>\n",
       "                        <td id=\"T_b66e4f3e_9b52_11eb_b57c_9db2262745d7row0_col1\" class=\"data row0 col1\" >$3.79</td>\n",
       "                        <td id=\"T_b66e4f3e_9b52_11eb_b57c_9db2262745d7row0_col2\" class=\"data row0 col2\" >$18.96</td>\n",
       "            </tr>\n",
       "            <tr>\n",
       "                        <th id=\"T_b66e4f3e_9b52_11eb_b57c_9db2262745d7level0_row1\" class=\"row_heading level0 row1\" >Idastidru52</th>\n",
       "                        <td id=\"T_b66e4f3e_9b52_11eb_b57c_9db2262745d7row1_col0\" class=\"data row1 col0\" >4</td>\n",
       "                        <td id=\"T_b66e4f3e_9b52_11eb_b57c_9db2262745d7row1_col1\" class=\"data row1 col1\" >$3.86</td>\n",
       "                        <td id=\"T_b66e4f3e_9b52_11eb_b57c_9db2262745d7row1_col2\" class=\"data row1 col2\" >$15.45</td>\n",
       "            </tr>\n",
       "            <tr>\n",
       "                        <th id=\"T_b66e4f3e_9b52_11eb_b57c_9db2262745d7level0_row2\" class=\"row_heading level0 row2\" >Chamjask73</th>\n",
       "                        <td id=\"T_b66e4f3e_9b52_11eb_b57c_9db2262745d7row2_col0\" class=\"data row2 col0\" >3</td>\n",
       "                        <td id=\"T_b66e4f3e_9b52_11eb_b57c_9db2262745d7row2_col1\" class=\"data row2 col1\" >$4.61</td>\n",
       "                        <td id=\"T_b66e4f3e_9b52_11eb_b57c_9db2262745d7row2_col2\" class=\"data row2 col2\" >$13.83</td>\n",
       "            </tr>\n",
       "            <tr>\n",
       "                        <th id=\"T_b66e4f3e_9b52_11eb_b57c_9db2262745d7level0_row3\" class=\"row_heading level0 row3\" >Iral74</th>\n",
       "                        <td id=\"T_b66e4f3e_9b52_11eb_b57c_9db2262745d7row3_col0\" class=\"data row3 col0\" >4</td>\n",
       "                        <td id=\"T_b66e4f3e_9b52_11eb_b57c_9db2262745d7row3_col1\" class=\"data row3 col1\" >$3.40</td>\n",
       "                        <td id=\"T_b66e4f3e_9b52_11eb_b57c_9db2262745d7row3_col2\" class=\"data row3 col2\" >$13.62</td>\n",
       "            </tr>\n",
       "            <tr>\n",
       "                        <th id=\"T_b66e4f3e_9b52_11eb_b57c_9db2262745d7level0_row4\" class=\"row_heading level0 row4\" >Iskadarya95</th>\n",
       "                        <td id=\"T_b66e4f3e_9b52_11eb_b57c_9db2262745d7row4_col0\" class=\"data row4 col0\" >3</td>\n",
       "                        <td id=\"T_b66e4f3e_9b52_11eb_b57c_9db2262745d7row4_col1\" class=\"data row4 col1\" >$4.37</td>\n",
       "                        <td id=\"T_b66e4f3e_9b52_11eb_b57c_9db2262745d7row4_col2\" class=\"data row4 col2\" >$13.10</td>\n",
       "            </tr>\n",
       "    </tbody></table>"
      ],
      "text/plain": [
       "<pandas.io.formats.style.Styler at 0x12bf51889e8>"
      ]
     },
     "execution_count": 253,
     "metadata": {},
     "output_type": "execute_result"
    }
   ],
   "source": [
    "sn_group = heros_df.groupby(\"SN\")\n",
    "sn_purchase_count= sn_group[\"SN\"].count()\n",
    "sn_avg_pp = sn_group[\"Price\"].mean()\n",
    "sn_total_purchase_value = sn_group[\"Price\"].sum()\n",
    "\n",
    "sn_summary = pd.DataFrame({\"Purchase count\":sn_purchase_count,\n",
    "                          \"Average Purchase Price\":sn_avg_pp,\n",
    "                          \"Total Purchase Value\":sn_total_purchase_value })\n",
    "\n",
    "sn_summary_des = sn_summary.sort_values([\"Total Purchase Value\"],ascending=False).head(5)\n",
    "sn_summary_des.style.format({\"Average Purchase Price\":\"${:.2f}\",\n",
    "                            \"Total Purchase Value\":\"${:.2f}\"})"
   ]
  },
  {
   "cell_type": "markdown",
   "metadata": {},
   "source": [
    "## Most Popular Items"
   ]
  },
  {
   "cell_type": "markdown",
   "metadata": {},
   "source": [
    "* Retrieve the Item ID, Item Name, and Item Price columns\n",
    "\n",
    "\n",
    "* Group by Item ID and Item Name. Perform calculations to obtain purchase count, average item price, and total purchase value\n",
    "\n",
    "\n",
    "* Create a summary data frame to hold the results\n",
    "\n",
    "\n",
    "* Sort the purchase count column in descending order\n",
    "\n",
    "\n",
    "* Optional: give the displayed data cleaner formatting\n",
    "\n",
    "\n",
    "* Display a preview of the summary data frame\n",
    "\n"
   ]
  },
  {
   "cell_type": "code",
   "execution_count": 265,
   "metadata": {},
   "outputs": [
    {
     "data": {
      "text/html": [
       "<style  type=\"text/css\" >\n",
       "</style><table id=\"T_98f05b22_9b55_11eb_a897_9db2262745d7\" ><thead>    <tr>        <th class=\"blank\" ></th>        <th class=\"blank level0\" ></th>        <th class=\"col_heading level0 col0\" >Purchase Count</th>        <th class=\"col_heading level0 col1\" >Item Price</th>        <th class=\"col_heading level0 col2\" >Total Purchase Value</th>    </tr>    <tr>        <th class=\"index_name level0\" >Item ID</th>        <th class=\"index_name level1\" >Item Name</th>        <th class=\"blank\" ></th>        <th class=\"blank\" ></th>        <th class=\"blank\" ></th>    </tr></thead><tbody>\n",
       "                <tr>\n",
       "                        <th id=\"T_98f05b22_9b55_11eb_a897_9db2262745d7level0_row0\" class=\"row_heading level0 row0\" >92</th>\n",
       "                        <th id=\"T_98f05b22_9b55_11eb_a897_9db2262745d7level1_row0\" class=\"row_heading level1 row0\" >Final Critic</th>\n",
       "                        <td id=\"T_98f05b22_9b55_11eb_a897_9db2262745d7row0_col0\" class=\"data row0 col0\" >13</td>\n",
       "                        <td id=\"T_98f05b22_9b55_11eb_a897_9db2262745d7row0_col1\" class=\"data row0 col1\" >$4.61</td>\n",
       "                        <td id=\"T_98f05b22_9b55_11eb_a897_9db2262745d7row0_col2\" class=\"data row0 col2\" >$59.99</td>\n",
       "            </tr>\n",
       "            <tr>\n",
       "                        <th id=\"T_98f05b22_9b55_11eb_a897_9db2262745d7level0_row1\" class=\"row_heading level0 row1\" >178</th>\n",
       "                        <th id=\"T_98f05b22_9b55_11eb_a897_9db2262745d7level1_row1\" class=\"row_heading level1 row1\" >Oathbreaker, Last Hope of the Breaking Storm</th>\n",
       "                        <td id=\"T_98f05b22_9b55_11eb_a897_9db2262745d7row1_col0\" class=\"data row1 col0\" >12</td>\n",
       "                        <td id=\"T_98f05b22_9b55_11eb_a897_9db2262745d7row1_col1\" class=\"data row1 col1\" >$4.23</td>\n",
       "                        <td id=\"T_98f05b22_9b55_11eb_a897_9db2262745d7row1_col2\" class=\"data row1 col2\" >$50.76</td>\n",
       "            </tr>\n",
       "            <tr>\n",
       "                        <th id=\"T_98f05b22_9b55_11eb_a897_9db2262745d7level0_row2\" class=\"row_heading level0 row2\" >145</th>\n",
       "                        <th id=\"T_98f05b22_9b55_11eb_a897_9db2262745d7level1_row2\" class=\"row_heading level1 row2\" >Fiery Glass Crusader</th>\n",
       "                        <td id=\"T_98f05b22_9b55_11eb_a897_9db2262745d7row2_col0\" class=\"data row2 col0\" >9</td>\n",
       "                        <td id=\"T_98f05b22_9b55_11eb_a897_9db2262745d7row2_col1\" class=\"data row2 col1\" >$4.58</td>\n",
       "                        <td id=\"T_98f05b22_9b55_11eb_a897_9db2262745d7row2_col2\" class=\"data row2 col2\" >$41.22</td>\n",
       "            </tr>\n",
       "            <tr>\n",
       "                        <th id=\"T_98f05b22_9b55_11eb_a897_9db2262745d7level0_row3\" class=\"row_heading level0 row3\" >132</th>\n",
       "                        <th id=\"T_98f05b22_9b55_11eb_a897_9db2262745d7level1_row3\" class=\"row_heading level1 row3\" >Persuasion</th>\n",
       "                        <td id=\"T_98f05b22_9b55_11eb_a897_9db2262745d7row3_col0\" class=\"data row3 col0\" >9</td>\n",
       "                        <td id=\"T_98f05b22_9b55_11eb_a897_9db2262745d7row3_col1\" class=\"data row3 col1\" >$3.22</td>\n",
       "                        <td id=\"T_98f05b22_9b55_11eb_a897_9db2262745d7row3_col2\" class=\"data row3 col2\" >$28.99</td>\n",
       "            </tr>\n",
       "            <tr>\n",
       "                        <th id=\"T_98f05b22_9b55_11eb_a897_9db2262745d7level0_row4\" class=\"row_heading level0 row4\" >108</th>\n",
       "                        <th id=\"T_98f05b22_9b55_11eb_a897_9db2262745d7level1_row4\" class=\"row_heading level1 row4\" >Extraction, Quickblade Of Trembling Hands</th>\n",
       "                        <td id=\"T_98f05b22_9b55_11eb_a897_9db2262745d7row4_col0\" class=\"data row4 col0\" >9</td>\n",
       "                        <td id=\"T_98f05b22_9b55_11eb_a897_9db2262745d7row4_col1\" class=\"data row4 col1\" >$3.53</td>\n",
       "                        <td id=\"T_98f05b22_9b55_11eb_a897_9db2262745d7row4_col2\" class=\"data row4 col2\" >$31.77</td>\n",
       "            </tr>\n",
       "    </tbody></table>"
      ],
      "text/plain": [
       "<pandas.io.formats.style.Styler at 0x12bf5196f28>"
      ]
     },
     "execution_count": 265,
     "metadata": {},
     "output_type": "execute_result"
    }
   ],
   "source": [
    "item_id = heros_df[[\"Item ID\", \"Item Name\",\"Price\"]]\n",
    "item_df = heros_df.groupby([\"Item ID\",\"Item Name\"])\n",
    "item_purchase_count = item_df[\"Price\"].count()\n",
    "item_price= item_df[\"Price\"].sum()\n",
    "total_pv = item_purchase_count*item_price\n",
    "item_summary = pd.DataFrame({\"Purchase Count\":item_purchase_count,\n",
    "                            \"Item Price\":(item_price/item_purchase_count),\n",
    "                            \"Total Purchase Value\":item_price})\n",
    "\n",
    "item_summary_fm = item_summary.sort_values([\"Purchase Count\"],ascending=False).head(5)\n",
    "item_summary_fm.style.format({\"Item Price\":\"${:.2f}\",\n",
    "                             \"Total Purchase Value\":\"${:.2f}\"})"
   ]
  },
  {
   "cell_type": "markdown",
   "metadata": {},
   "source": [
    "## Most Profitable Items"
   ]
  },
  {
   "cell_type": "markdown",
   "metadata": {},
   "source": [
    "* Sort the above table by total purchase value in descending order\n",
    "\n",
    "\n",
    "* Optional: give the displayed data cleaner formatting\n",
    "\n",
    "\n",
    "* Display a preview of the data frame\n",
    "\n"
   ]
  },
  {
   "cell_type": "code",
   "execution_count": 267,
   "metadata": {
    "scrolled": true
   },
   "outputs": [
    {
     "data": {
      "text/html": [
       "<style  type=\"text/css\" >\n",
       "</style><table id=\"T_2d086918_9b56_11eb_8d79_9db2262745d7\" ><thead>    <tr>        <th class=\"blank\" ></th>        <th class=\"blank level0\" ></th>        <th class=\"col_heading level0 col0\" >Purchase Count</th>        <th class=\"col_heading level0 col1\" >Item Price</th>        <th class=\"col_heading level0 col2\" >Total Purchase Value</th>    </tr>    <tr>        <th class=\"index_name level0\" >Item ID</th>        <th class=\"index_name level1\" >Item Name</th>        <th class=\"blank\" ></th>        <th class=\"blank\" ></th>        <th class=\"blank\" ></th>    </tr></thead><tbody>\n",
       "                <tr>\n",
       "                        <th id=\"T_2d086918_9b56_11eb_8d79_9db2262745d7level0_row0\" class=\"row_heading level0 row0\" >92</th>\n",
       "                        <th id=\"T_2d086918_9b56_11eb_8d79_9db2262745d7level1_row0\" class=\"row_heading level1 row0\" >Final Critic</th>\n",
       "                        <td id=\"T_2d086918_9b56_11eb_8d79_9db2262745d7row0_col0\" class=\"data row0 col0\" >13</td>\n",
       "                        <td id=\"T_2d086918_9b56_11eb_8d79_9db2262745d7row0_col1\" class=\"data row0 col1\" >$4.61</td>\n",
       "                        <td id=\"T_2d086918_9b56_11eb_8d79_9db2262745d7row0_col2\" class=\"data row0 col2\" >$59.99</td>\n",
       "            </tr>\n",
       "            <tr>\n",
       "                        <th id=\"T_2d086918_9b56_11eb_8d79_9db2262745d7level0_row1\" class=\"row_heading level0 row1\" >178</th>\n",
       "                        <th id=\"T_2d086918_9b56_11eb_8d79_9db2262745d7level1_row1\" class=\"row_heading level1 row1\" >Oathbreaker, Last Hope of the Breaking Storm</th>\n",
       "                        <td id=\"T_2d086918_9b56_11eb_8d79_9db2262745d7row1_col0\" class=\"data row1 col0\" >12</td>\n",
       "                        <td id=\"T_2d086918_9b56_11eb_8d79_9db2262745d7row1_col1\" class=\"data row1 col1\" >$4.23</td>\n",
       "                        <td id=\"T_2d086918_9b56_11eb_8d79_9db2262745d7row1_col2\" class=\"data row1 col2\" >$50.76</td>\n",
       "            </tr>\n",
       "            <tr>\n",
       "                        <th id=\"T_2d086918_9b56_11eb_8d79_9db2262745d7level0_row2\" class=\"row_heading level0 row2\" >82</th>\n",
       "                        <th id=\"T_2d086918_9b56_11eb_8d79_9db2262745d7level1_row2\" class=\"row_heading level1 row2\" >Nirvana</th>\n",
       "                        <td id=\"T_2d086918_9b56_11eb_8d79_9db2262745d7row2_col0\" class=\"data row2 col0\" >9</td>\n",
       "                        <td id=\"T_2d086918_9b56_11eb_8d79_9db2262745d7row2_col1\" class=\"data row2 col1\" >$4.90</td>\n",
       "                        <td id=\"T_2d086918_9b56_11eb_8d79_9db2262745d7row2_col2\" class=\"data row2 col2\" >$44.10</td>\n",
       "            </tr>\n",
       "            <tr>\n",
       "                        <th id=\"T_2d086918_9b56_11eb_8d79_9db2262745d7level0_row3\" class=\"row_heading level0 row3\" >145</th>\n",
       "                        <th id=\"T_2d086918_9b56_11eb_8d79_9db2262745d7level1_row3\" class=\"row_heading level1 row3\" >Fiery Glass Crusader</th>\n",
       "                        <td id=\"T_2d086918_9b56_11eb_8d79_9db2262745d7row3_col0\" class=\"data row3 col0\" >9</td>\n",
       "                        <td id=\"T_2d086918_9b56_11eb_8d79_9db2262745d7row3_col1\" class=\"data row3 col1\" >$4.58</td>\n",
       "                        <td id=\"T_2d086918_9b56_11eb_8d79_9db2262745d7row3_col2\" class=\"data row3 col2\" >$41.22</td>\n",
       "            </tr>\n",
       "            <tr>\n",
       "                        <th id=\"T_2d086918_9b56_11eb_8d79_9db2262745d7level0_row4\" class=\"row_heading level0 row4\" >103</th>\n",
       "                        <th id=\"T_2d086918_9b56_11eb_8d79_9db2262745d7level1_row4\" class=\"row_heading level1 row4\" >Singed Scalpel</th>\n",
       "                        <td id=\"T_2d086918_9b56_11eb_8d79_9db2262745d7row4_col0\" class=\"data row4 col0\" >8</td>\n",
       "                        <td id=\"T_2d086918_9b56_11eb_8d79_9db2262745d7row4_col1\" class=\"data row4 col1\" >$4.35</td>\n",
       "                        <td id=\"T_2d086918_9b56_11eb_8d79_9db2262745d7row4_col2\" class=\"data row4 col2\" >$34.80</td>\n",
       "            </tr>\n",
       "    </tbody></table>"
      ],
      "text/plain": [
       "<pandas.io.formats.style.Styler at 0x12bf51b45f8>"
      ]
     },
     "execution_count": 267,
     "metadata": {},
     "output_type": "execute_result"
    }
   ],
   "source": [
    "item_summary_fm = item_summary.sort_values([\"Total Purchase Value\"],ascending=False).head(5)\n",
    "item_summary_fm.style.format({\"Item Price\":\"${:.2f}\",\n",
    "                             \"Total Purchase Value\":\"${:.2f}\"})"
   ]
  },
  {
   "cell_type": "code",
   "execution_count": null,
   "metadata": {},
   "outputs": [],
   "source": []
  }
 ],
 "metadata": {
  "anaconda-cloud": {},
  "kernel_info": {
   "name": "python3"
  },
  "kernelspec": {
   "display_name": "Python [conda env:PythonData] *",
   "language": "python",
   "name": "conda-env-PythonData-py"
  },
  "language_info": {
   "codemirror_mode": {
    "name": "ipython",
    "version": 3
   },
   "file_extension": ".py",
   "mimetype": "text/x-python",
   "name": "python",
   "nbconvert_exporter": "python",
   "pygments_lexer": "ipython3",
   "version": "3.6.10"
  },
  "latex_envs": {
   "LaTeX_envs_menu_present": true,
   "autoclose": false,
   "autocomplete": true,
   "bibliofile": "biblio.bib",
   "cite_by": "apalike",
   "current_citInitial": 1,
   "eqLabelWithNumbers": true,
   "eqNumInitial": 1,
   "hotkeys": {
    "equation": "Ctrl-E",
    "itemize": "Ctrl-I"
   },
   "labels_anchors": false,
   "latex_user_defs": false,
   "report_style_numbering": false,
   "user_envs_cfg": false
  },
  "nteract": {
   "version": "0.2.0"
  }
 },
 "nbformat": 4,
 "nbformat_minor": 2
}
